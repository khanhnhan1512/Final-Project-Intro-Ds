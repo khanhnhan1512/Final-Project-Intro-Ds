{
  "cells": [
    {
      "cell_type": "markdown",
      "metadata": {
        "id": "7UCI7NTbksq3"
      },
      "source": [
        "# <p style=\"text-align: center;\"> Final Project - Introduction to Data Science</p>\n",
        "# <p style=\"text-align: center;\"> <b> Data Pre-processing </b></p>\n",
        "---"
      ]
    },
    {
      "cell_type": "markdown",
      "metadata": {
        "id": "lpY0Txijksq5"
      },
      "source": [
        "## Member Information\n",
        "| Name              | ID       |\n",
        "|-------------------|----------|\n",
        "|Tran Đinh Quang    | 21127406 |\n",
        "|Nguyen Hong Hanh   | 21127503 |\n",
        "|Đo Quoc Tri  | 21127556 |\n",
        "| Nguyen Khanh Nhan | 21127657         |\n"
      ]
    },
    {
      "cell_type": "markdown",
      "metadata": {
        "id": "gPbMMlnlksq6"
      },
      "source": [
        "## Table of contents\n",
        "\n",
        "\n",
        "\n",
        "---"
      ]
    },
    {
      "cell_type": "code",
      "execution_count": 1,
      "metadata": {
        "id": "p0_ydZlQqvuF"
      },
      "outputs": [],
      "source": [
        "import pandas as pd\n",
        "import numpy as np\n",
        "import matplotlib.pyplot as plt\n",
        "import seaborn as sns\n",
        "from scipy import stats\n",
        "from sklearn.impute import KNNImputer\n",
        "from sklearn.model_selection import train_test_split\n",
        "from sklearn.preprocessing import StandardScaler"
      ]
    },
    {
      "cell_type": "code",
      "execution_count": 2,
      "metadata": {},
      "outputs": [],
      "source": [
        "\n",
        "from statsmodels.stats.outliers_influence import variance_inflation_factor"
      ]
    },
    {
      "cell_type": "code",
      "execution_count": 3,
      "metadata": {
        "colab": {
          "base_uri": "https://localhost:8080/",
          "height": 429
        },
        "id": "qyIRsQSZqmjz",
        "outputId": "d683f4af-b486-4a46-d442-5dcae17e1c4f"
      },
      "outputs": [
        {
          "data": {
            "text/html": [
              "<div>\n",
              "<style scoped>\n",
              "    .dataframe tbody tr th:only-of-type {\n",
              "        vertical-align: middle;\n",
              "    }\n",
              "\n",
              "    .dataframe tbody tr th {\n",
              "        vertical-align: top;\n",
              "    }\n",
              "\n",
              "    .dataframe thead th {\n",
              "        text-align: right;\n",
              "    }\n",
              "</style>\n",
              "<table border=\"1\" class=\"dataframe\">\n",
              "  <thead>\n",
              "    <tr style=\"text-align: right;\">\n",
              "      <th></th>\n",
              "      <th>datetime</th>\n",
              "      <th>datetimeEpoch</th>\n",
              "      <th>tempmax</th>\n",
              "      <th>tempmin</th>\n",
              "      <th>temp</th>\n",
              "      <th>feelslikemax</th>\n",
              "      <th>feelslikemin</th>\n",
              "      <th>feelslike</th>\n",
              "      <th>dew</th>\n",
              "      <th>humidity</th>\n",
              "      <th>...</th>\n",
              "      <th>sunriseEpoch</th>\n",
              "      <th>sunset</th>\n",
              "      <th>sunsetEpoch</th>\n",
              "      <th>moonphase</th>\n",
              "      <th>conditions</th>\n",
              "      <th>description</th>\n",
              "      <th>icon</th>\n",
              "      <th>stations</th>\n",
              "      <th>source</th>\n",
              "      <th>severerisk</th>\n",
              "    </tr>\n",
              "  </thead>\n",
              "  <tbody>\n",
              "    <tr>\n",
              "      <th>0</th>\n",
              "      <td>2009-09-27</td>\n",
              "      <td>1253984400</td>\n",
              "      <td>87.9</td>\n",
              "      <td>73.5</td>\n",
              "      <td>78.9</td>\n",
              "      <td>100.9</td>\n",
              "      <td>73.5</td>\n",
              "      <td>82.5</td>\n",
              "      <td>76.5</td>\n",
              "      <td>93.0</td>\n",
              "      <td>...</td>\n",
              "      <td>1254004923</td>\n",
              "      <td>17:46:17</td>\n",
              "      <td>1254048377</td>\n",
              "      <td>0.27</td>\n",
              "      <td>Partially cloudy</td>\n",
              "      <td>Partly cloudy throughout the day.</td>\n",
              "      <td>partly-cloudy-day</td>\n",
              "      <td>['48900099999']</td>\n",
              "      <td>obs</td>\n",
              "      <td>NaN</td>\n",
              "    </tr>\n",
              "    <tr>\n",
              "      <th>1</th>\n",
              "      <td>2009-09-28</td>\n",
              "      <td>1254070800</td>\n",
              "      <td>84.8</td>\n",
              "      <td>75.3</td>\n",
              "      <td>79.6</td>\n",
              "      <td>94.0</td>\n",
              "      <td>75.3</td>\n",
              "      <td>82.7</td>\n",
              "      <td>75.7</td>\n",
              "      <td>88.4</td>\n",
              "      <td>...</td>\n",
              "      <td>1254091320</td>\n",
              "      <td>17:45:39</td>\n",
              "      <td>1254134739</td>\n",
              "      <td>0.30</td>\n",
              "      <td>Overcast</td>\n",
              "      <td>Cloudy skies throughout the day.</td>\n",
              "      <td>cloudy</td>\n",
              "      <td>['48900099999']</td>\n",
              "      <td>obs</td>\n",
              "      <td>NaN</td>\n",
              "    </tr>\n",
              "    <tr>\n",
              "      <th>2</th>\n",
              "      <td>2009-09-29</td>\n",
              "      <td>1254157200</td>\n",
              "      <td>84.5</td>\n",
              "      <td>77.1</td>\n",
              "      <td>80.5</td>\n",
              "      <td>93.5</td>\n",
              "      <td>77.1</td>\n",
              "      <td>84.6</td>\n",
              "      <td>76.2</td>\n",
              "      <td>87.0</td>\n",
              "      <td>...</td>\n",
              "      <td>1254177718</td>\n",
              "      <td>17:45:01</td>\n",
              "      <td>1254221101</td>\n",
              "      <td>0.34</td>\n",
              "      <td>Partially cloudy</td>\n",
              "      <td>Partly cloudy throughout the day.</td>\n",
              "      <td>partly-cloudy-day</td>\n",
              "      <td>['48900099999']</td>\n",
              "      <td>obs</td>\n",
              "      <td>NaN</td>\n",
              "    </tr>\n",
              "    <tr>\n",
              "      <th>3</th>\n",
              "      <td>2009-09-30</td>\n",
              "      <td>1254243600</td>\n",
              "      <td>87.9</td>\n",
              "      <td>74.6</td>\n",
              "      <td>79.3</td>\n",
              "      <td>100.2</td>\n",
              "      <td>74.6</td>\n",
              "      <td>82.4</td>\n",
              "      <td>76.3</td>\n",
              "      <td>91.7</td>\n",
              "      <td>...</td>\n",
              "      <td>1254264116</td>\n",
              "      <td>17:44:24</td>\n",
              "      <td>1254307464</td>\n",
              "      <td>0.37</td>\n",
              "      <td>Partially cloudy</td>\n",
              "      <td>Partly cloudy throughout the day.</td>\n",
              "      <td>partly-cloudy-day</td>\n",
              "      <td>['48900099999']</td>\n",
              "      <td>obs</td>\n",
              "      <td>NaN</td>\n",
              "    </tr>\n",
              "    <tr>\n",
              "      <th>4</th>\n",
              "      <td>2009-10-01</td>\n",
              "      <td>1254330000</td>\n",
              "      <td>89.7</td>\n",
              "      <td>75.3</td>\n",
              "      <td>80.9</td>\n",
              "      <td>100.5</td>\n",
              "      <td>75.3</td>\n",
              "      <td>85.4</td>\n",
              "      <td>76.3</td>\n",
              "      <td>87.2</td>\n",
              "      <td>...</td>\n",
              "      <td>1254350514</td>\n",
              "      <td>17:43:46</td>\n",
              "      <td>1254393826</td>\n",
              "      <td>0.40</td>\n",
              "      <td>Partially cloudy</td>\n",
              "      <td>Partly cloudy throughout the day.</td>\n",
              "      <td>partly-cloudy-day</td>\n",
              "      <td>['48900099999']</td>\n",
              "      <td>obs</td>\n",
              "      <td>NaN</td>\n",
              "    </tr>\n",
              "  </tbody>\n",
              "</table>\n",
              "<p>5 rows × 36 columns</p>\n",
              "</div>"
            ],
            "text/plain": [
              "     datetime  datetimeEpoch  tempmax  tempmin  temp  feelslikemax  \\\n",
              "0  2009-09-27     1253984400     87.9     73.5  78.9         100.9   \n",
              "1  2009-09-28     1254070800     84.8     75.3  79.6          94.0   \n",
              "2  2009-09-29     1254157200     84.5     77.1  80.5          93.5   \n",
              "3  2009-09-30     1254243600     87.9     74.6  79.3         100.2   \n",
              "4  2009-10-01     1254330000     89.7     75.3  80.9         100.5   \n",
              "\n",
              "   feelslikemin  feelslike   dew  humidity  ...  sunriseEpoch    sunset  \\\n",
              "0          73.5       82.5  76.5      93.0  ...    1254004923  17:46:17   \n",
              "1          75.3       82.7  75.7      88.4  ...    1254091320  17:45:39   \n",
              "2          77.1       84.6  76.2      87.0  ...    1254177718  17:45:01   \n",
              "3          74.6       82.4  76.3      91.7  ...    1254264116  17:44:24   \n",
              "4          75.3       85.4  76.3      87.2  ...    1254350514  17:43:46   \n",
              "\n",
              "   sunsetEpoch moonphase        conditions                        description  \\\n",
              "0   1254048377      0.27  Partially cloudy  Partly cloudy throughout the day.   \n",
              "1   1254134739      0.30          Overcast   Cloudy skies throughout the day.   \n",
              "2   1254221101      0.34  Partially cloudy  Partly cloudy throughout the day.   \n",
              "3   1254307464      0.37  Partially cloudy  Partly cloudy throughout the day.   \n",
              "4   1254393826      0.40  Partially cloudy  Partly cloudy throughout the day.   \n",
              "\n",
              "                icon         stations  source  severerisk  \n",
              "0  partly-cloudy-day  ['48900099999']     obs         NaN  \n",
              "1             cloudy  ['48900099999']     obs         NaN  \n",
              "2  partly-cloudy-day  ['48900099999']     obs         NaN  \n",
              "3  partly-cloudy-day  ['48900099999']     obs         NaN  \n",
              "4  partly-cloudy-day  ['48900099999']     obs         NaN  \n",
              "\n",
              "[5 rows x 36 columns]"
            ]
          },
          "execution_count": 3,
          "metadata": {},
          "output_type": "execute_result"
        }
      ],
      "source": [
        "FILE_PATH = '../data/raw.csv'\n",
        "df = pd.read_csv(FILE_PATH)\n",
        "\n",
        "df.head()"
      ]
    },
    {
      "cell_type": "markdown",
      "metadata": {
        "id": "mHAongTwpuXl"
      },
      "source": [
        "# Add - Remove columns"
      ]
    },
    {
      "cell_type": "markdown",
      "metadata": {
        "id": "xCxpyfByp6TB"
      },
      "source": [
        "**Numeric data:**\n",
        "\n",
        "*   'datetime', 'dateEpoch': the purpose of the problem is to rely on environmental data to predict the weather at that specific time. Therefore, when it comes to time, we will use a column for  month for analysis instead of storing a specific date\n",
        "*   'precip', 'precipprob', 'precipcover': remove because, for the data of precipitation, we have a column 'preciptype' with only 2 values: 'rain' or null, and others are equal 0 when 'preciptype' is null. It's possible to consider merging these columns into one 'preciptype' column with boolean data type (0: null, 1: rain)\n",
        "*   'sunrise', 'sunset', 'sunriseEpoch', 'sunsetEpoch': for the sunrise and sunset times, we will store as the number of seconds since 00:00 so that it will be convenient when analyze the relationships between these two columns and the remaining columns in the dataframe\n",
        "*   'snow', 'snowdepth': as the data is obtained from Ho Chi Minh City, Vietnam, a city where snowfall never occurs, we will remove columns related to snow with a high number of missing values\n",
        "*   'windgust', 'severerisk': remove due to a high percentage of missing values (90%) and lack of meaningful relevance to the posed problem"
      ]
    },
    {
      "cell_type": "code",
      "execution_count": 4,
      "metadata": {
        "colab": {
          "base_uri": "https://localhost:8080/",
          "height": 429
        },
        "id": "VFo2p_9ZTySU",
        "outputId": "bac540a9-4c53-4554-981b-5510e08abd11"
      },
      "outputs": [
        {
          "data": {
            "text/html": [
              "<div>\n",
              "<style scoped>\n",
              "    .dataframe tbody tr th:only-of-type {\n",
              "        vertical-align: middle;\n",
              "    }\n",
              "\n",
              "    .dataframe tbody tr th {\n",
              "        vertical-align: top;\n",
              "    }\n",
              "\n",
              "    .dataframe thead th {\n",
              "        text-align: right;\n",
              "    }\n",
              "</style>\n",
              "<table border=\"1\" class=\"dataframe\">\n",
              "  <thead>\n",
              "    <tr style=\"text-align: right;\">\n",
              "      <th></th>\n",
              "      <th>tempmax</th>\n",
              "      <th>tempmin</th>\n",
              "      <th>temp</th>\n",
              "      <th>feelslikemax</th>\n",
              "      <th>feelslikemin</th>\n",
              "      <th>feelslike</th>\n",
              "      <th>dew</th>\n",
              "      <th>humidity</th>\n",
              "      <th>preciptype</th>\n",
              "      <th>windspeed</th>\n",
              "      <th>...</th>\n",
              "      <th>uvindex</th>\n",
              "      <th>sunrise</th>\n",
              "      <th>sunset</th>\n",
              "      <th>moonphase</th>\n",
              "      <th>conditions</th>\n",
              "      <th>description</th>\n",
              "      <th>icon</th>\n",
              "      <th>stations</th>\n",
              "      <th>source</th>\n",
              "      <th>month</th>\n",
              "    </tr>\n",
              "  </thead>\n",
              "  <tbody>\n",
              "    <tr>\n",
              "      <th>0</th>\n",
              "      <td>87.9</td>\n",
              "      <td>73.5</td>\n",
              "      <td>78.9</td>\n",
              "      <td>100.9</td>\n",
              "      <td>73.5</td>\n",
              "      <td>82.5</td>\n",
              "      <td>76.5</td>\n",
              "      <td>93.0</td>\n",
              "      <td>0</td>\n",
              "      <td>18.3</td>\n",
              "      <td>...</td>\n",
              "      <td>NaN</td>\n",
              "      <td>20523</td>\n",
              "      <td>63977</td>\n",
              "      <td>0.27</td>\n",
              "      <td>Partially cloudy</td>\n",
              "      <td>Partly cloudy throughout the day.</td>\n",
              "      <td>partly-cloudy-day</td>\n",
              "      <td>['48900099999']</td>\n",
              "      <td>obs</td>\n",
              "      <td>9</td>\n",
              "    </tr>\n",
              "    <tr>\n",
              "      <th>1</th>\n",
              "      <td>84.8</td>\n",
              "      <td>75.3</td>\n",
              "      <td>79.6</td>\n",
              "      <td>94.0</td>\n",
              "      <td>75.3</td>\n",
              "      <td>82.7</td>\n",
              "      <td>75.7</td>\n",
              "      <td>88.4</td>\n",
              "      <td>0</td>\n",
              "      <td>13.9</td>\n",
              "      <td>...</td>\n",
              "      <td>NaN</td>\n",
              "      <td>20520</td>\n",
              "      <td>63939</td>\n",
              "      <td>0.30</td>\n",
              "      <td>Overcast</td>\n",
              "      <td>Cloudy skies throughout the day.</td>\n",
              "      <td>cloudy</td>\n",
              "      <td>['48900099999']</td>\n",
              "      <td>obs</td>\n",
              "      <td>9</td>\n",
              "    </tr>\n",
              "    <tr>\n",
              "      <th>2</th>\n",
              "      <td>84.5</td>\n",
              "      <td>77.1</td>\n",
              "      <td>80.5</td>\n",
              "      <td>93.5</td>\n",
              "      <td>77.1</td>\n",
              "      <td>84.6</td>\n",
              "      <td>76.2</td>\n",
              "      <td>87.0</td>\n",
              "      <td>0</td>\n",
              "      <td>16.1</td>\n",
              "      <td>...</td>\n",
              "      <td>NaN</td>\n",
              "      <td>20518</td>\n",
              "      <td>63901</td>\n",
              "      <td>0.34</td>\n",
              "      <td>Partially cloudy</td>\n",
              "      <td>Partly cloudy throughout the day.</td>\n",
              "      <td>partly-cloudy-day</td>\n",
              "      <td>['48900099999']</td>\n",
              "      <td>obs</td>\n",
              "      <td>9</td>\n",
              "    </tr>\n",
              "    <tr>\n",
              "      <th>3</th>\n",
              "      <td>87.9</td>\n",
              "      <td>74.6</td>\n",
              "      <td>79.3</td>\n",
              "      <td>100.2</td>\n",
              "      <td>74.6</td>\n",
              "      <td>82.4</td>\n",
              "      <td>76.3</td>\n",
              "      <td>91.7</td>\n",
              "      <td>0</td>\n",
              "      <td>17.2</td>\n",
              "      <td>...</td>\n",
              "      <td>NaN</td>\n",
              "      <td>20516</td>\n",
              "      <td>63864</td>\n",
              "      <td>0.37</td>\n",
              "      <td>Partially cloudy</td>\n",
              "      <td>Partly cloudy throughout the day.</td>\n",
              "      <td>partly-cloudy-day</td>\n",
              "      <td>['48900099999']</td>\n",
              "      <td>obs</td>\n",
              "      <td>9</td>\n",
              "    </tr>\n",
              "    <tr>\n",
              "      <th>4</th>\n",
              "      <td>89.7</td>\n",
              "      <td>75.3</td>\n",
              "      <td>80.9</td>\n",
              "      <td>100.5</td>\n",
              "      <td>75.3</td>\n",
              "      <td>85.4</td>\n",
              "      <td>76.3</td>\n",
              "      <td>87.2</td>\n",
              "      <td>0</td>\n",
              "      <td>12.8</td>\n",
              "      <td>...</td>\n",
              "      <td>NaN</td>\n",
              "      <td>20514</td>\n",
              "      <td>63826</td>\n",
              "      <td>0.40</td>\n",
              "      <td>Partially cloudy</td>\n",
              "      <td>Partly cloudy throughout the day.</td>\n",
              "      <td>partly-cloudy-day</td>\n",
              "      <td>['48900099999']</td>\n",
              "      <td>obs</td>\n",
              "      <td>10</td>\n",
              "    </tr>\n",
              "  </tbody>\n",
              "</table>\n",
              "<p>5 rows × 26 columns</p>\n",
              "</div>"
            ],
            "text/plain": [
              "   tempmax  tempmin  temp  feelslikemax  feelslikemin  feelslike   dew  \\\n",
              "0     87.9     73.5  78.9         100.9          73.5       82.5  76.5   \n",
              "1     84.8     75.3  79.6          94.0          75.3       82.7  75.7   \n",
              "2     84.5     77.1  80.5          93.5          77.1       84.6  76.2   \n",
              "3     87.9     74.6  79.3         100.2          74.6       82.4  76.3   \n",
              "4     89.7     75.3  80.9         100.5          75.3       85.4  76.3   \n",
              "\n",
              "   humidity  preciptype  windspeed  ...  uvindex  sunrise  sunset  moonphase  \\\n",
              "0      93.0           0       18.3  ...      NaN    20523   63977       0.27   \n",
              "1      88.4           0       13.9  ...      NaN    20520   63939       0.30   \n",
              "2      87.0           0       16.1  ...      NaN    20518   63901       0.34   \n",
              "3      91.7           0       17.2  ...      NaN    20516   63864       0.37   \n",
              "4      87.2           0       12.8  ...      NaN    20514   63826       0.40   \n",
              "\n",
              "         conditions                        description               icon  \\\n",
              "0  Partially cloudy  Partly cloudy throughout the day.  partly-cloudy-day   \n",
              "1          Overcast   Cloudy skies throughout the day.             cloudy   \n",
              "2  Partially cloudy  Partly cloudy throughout the day.  partly-cloudy-day   \n",
              "3  Partially cloudy  Partly cloudy throughout the day.  partly-cloudy-day   \n",
              "4  Partially cloudy  Partly cloudy throughout the day.  partly-cloudy-day   \n",
              "\n",
              "          stations  source  month  \n",
              "0  ['48900099999']     obs      9  \n",
              "1  ['48900099999']     obs      9  \n",
              "2  ['48900099999']     obs      9  \n",
              "3  ['48900099999']     obs      9  \n",
              "4  ['48900099999']     obs     10  \n",
              "\n",
              "[5 rows x 26 columns]"
            ]
          },
          "execution_count": 4,
          "metadata": {},
          "output_type": "execute_result"
        }
      ],
      "source": [
        "df['month'] = pd.to_datetime(df['datetime']).dt.month\n",
        "\n",
        "# df['preciptype'][115] là chỗ ['rain'], để == ['rain'] thì nó không nhận ra?\n",
        "df['preciptype'] = [1 if i == df['preciptype'][115] else 0 for i in df['preciptype']]\n",
        "\n",
        "df['sunrise'] = pd.to_datetime(df['sunrise'], format='%H:%M:%S')\n",
        "\n",
        "df['sunrise'] = df['sunrise'].dt.hour * 3600 + df['sunrise'].dt.minute * 60 + df['sunrise'].dt.second\n",
        "\n",
        "df['sunset'] = pd.to_datetime(df['sunset'], format='%H:%M:%S')\n",
        "\n",
        "df['sunset'] = df['sunset'].dt.hour * 3600 + df['sunset'].dt.minute * 60 + df['sunset'].dt.second\n",
        "\n",
        "drop_columns = ['datetime', 'datetimeEpoch','precip', 'precipprob', 'precipcover', 'windgust', 'sunriseEpoch', 'sunsetEpoch', 'snow', 'snowdepth', 'severerisk']\n",
        "\n",
        "df = df.drop(columns=drop_columns, axis=1)\n",
        "\n",
        "df.head()"
      ]
    },
    {
      "cell_type": "markdown",
      "metadata": {
        "id": "BEvqGXhj56uk"
      },
      "source": [
        "**Categorical data**\n",
        "\n",
        "*   'description', 'conditons': remove because we only need one column with good classification properties to serve as the label ('icon')\n",
        "*   'stations': remove as its values are complex and not helpful for this project\n",
        "*   'source': remove as it has only one unique value"
      ]
    },
    {
      "cell_type": "code",
      "execution_count": 5,
      "metadata": {
        "colab": {
          "base_uri": "https://localhost:8080/",
          "height": 394
        },
        "id": "JiSoxmikgZkK",
        "outputId": "cba4e1b5-9cba-4647-8f50-49de2cff1050"
      },
      "outputs": [
        {
          "data": {
            "text/html": [
              "<div>\n",
              "<style scoped>\n",
              "    .dataframe tbody tr th:only-of-type {\n",
              "        vertical-align: middle;\n",
              "    }\n",
              "\n",
              "    .dataframe tbody tr th {\n",
              "        vertical-align: top;\n",
              "    }\n",
              "\n",
              "    .dataframe thead th {\n",
              "        text-align: right;\n",
              "    }\n",
              "</style>\n",
              "<table border=\"1\" class=\"dataframe\">\n",
              "  <thead>\n",
              "    <tr style=\"text-align: right;\">\n",
              "      <th></th>\n",
              "      <th>tempmax</th>\n",
              "      <th>tempmin</th>\n",
              "      <th>temp</th>\n",
              "      <th>feelslikemax</th>\n",
              "      <th>feelslikemin</th>\n",
              "      <th>feelslike</th>\n",
              "      <th>dew</th>\n",
              "      <th>humidity</th>\n",
              "      <th>preciptype</th>\n",
              "      <th>windspeed</th>\n",
              "      <th>...</th>\n",
              "      <th>cloudcover</th>\n",
              "      <th>visibility</th>\n",
              "      <th>solarradiation</th>\n",
              "      <th>solarenergy</th>\n",
              "      <th>uvindex</th>\n",
              "      <th>sunrise</th>\n",
              "      <th>sunset</th>\n",
              "      <th>moonphase</th>\n",
              "      <th>icon</th>\n",
              "      <th>month</th>\n",
              "    </tr>\n",
              "  </thead>\n",
              "  <tbody>\n",
              "    <tr>\n",
              "      <th>0</th>\n",
              "      <td>87.9</td>\n",
              "      <td>73.5</td>\n",
              "      <td>78.9</td>\n",
              "      <td>100.9</td>\n",
              "      <td>73.5</td>\n",
              "      <td>82.5</td>\n",
              "      <td>76.5</td>\n",
              "      <td>93.0</td>\n",
              "      <td>0</td>\n",
              "      <td>18.3</td>\n",
              "      <td>...</td>\n",
              "      <td>87.9</td>\n",
              "      <td>5.6</td>\n",
              "      <td>NaN</td>\n",
              "      <td>NaN</td>\n",
              "      <td>NaN</td>\n",
              "      <td>20523</td>\n",
              "      <td>63977</td>\n",
              "      <td>0.27</td>\n",
              "      <td>partly-cloudy-day</td>\n",
              "      <td>9</td>\n",
              "    </tr>\n",
              "    <tr>\n",
              "      <th>1</th>\n",
              "      <td>84.8</td>\n",
              "      <td>75.3</td>\n",
              "      <td>79.6</td>\n",
              "      <td>94.0</td>\n",
              "      <td>75.3</td>\n",
              "      <td>82.7</td>\n",
              "      <td>75.7</td>\n",
              "      <td>88.4</td>\n",
              "      <td>0</td>\n",
              "      <td>13.9</td>\n",
              "      <td>...</td>\n",
              "      <td>90.4</td>\n",
              "      <td>6.6</td>\n",
              "      <td>NaN</td>\n",
              "      <td>NaN</td>\n",
              "      <td>NaN</td>\n",
              "      <td>20520</td>\n",
              "      <td>63939</td>\n",
              "      <td>0.30</td>\n",
              "      <td>cloudy</td>\n",
              "      <td>9</td>\n",
              "    </tr>\n",
              "    <tr>\n",
              "      <th>2</th>\n",
              "      <td>84.5</td>\n",
              "      <td>77.1</td>\n",
              "      <td>80.5</td>\n",
              "      <td>93.5</td>\n",
              "      <td>77.1</td>\n",
              "      <td>84.6</td>\n",
              "      <td>76.2</td>\n",
              "      <td>87.0</td>\n",
              "      <td>0</td>\n",
              "      <td>16.1</td>\n",
              "      <td>...</td>\n",
              "      <td>82.1</td>\n",
              "      <td>6.6</td>\n",
              "      <td>NaN</td>\n",
              "      <td>NaN</td>\n",
              "      <td>NaN</td>\n",
              "      <td>20518</td>\n",
              "      <td>63901</td>\n",
              "      <td>0.34</td>\n",
              "      <td>partly-cloudy-day</td>\n",
              "      <td>9</td>\n",
              "    </tr>\n",
              "    <tr>\n",
              "      <th>3</th>\n",
              "      <td>87.9</td>\n",
              "      <td>74.6</td>\n",
              "      <td>79.3</td>\n",
              "      <td>100.2</td>\n",
              "      <td>74.6</td>\n",
              "      <td>82.4</td>\n",
              "      <td>76.3</td>\n",
              "      <td>91.7</td>\n",
              "      <td>0</td>\n",
              "      <td>17.2</td>\n",
              "      <td>...</td>\n",
              "      <td>90.0</td>\n",
              "      <td>5.7</td>\n",
              "      <td>NaN</td>\n",
              "      <td>NaN</td>\n",
              "      <td>NaN</td>\n",
              "      <td>20516</td>\n",
              "      <td>63864</td>\n",
              "      <td>0.37</td>\n",
              "      <td>partly-cloudy-day</td>\n",
              "      <td>9</td>\n",
              "    </tr>\n",
              "    <tr>\n",
              "      <th>4</th>\n",
              "      <td>89.7</td>\n",
              "      <td>75.3</td>\n",
              "      <td>80.9</td>\n",
              "      <td>100.5</td>\n",
              "      <td>75.3</td>\n",
              "      <td>85.4</td>\n",
              "      <td>76.3</td>\n",
              "      <td>87.2</td>\n",
              "      <td>0</td>\n",
              "      <td>12.8</td>\n",
              "      <td>...</td>\n",
              "      <td>70.8</td>\n",
              "      <td>6.6</td>\n",
              "      <td>NaN</td>\n",
              "      <td>NaN</td>\n",
              "      <td>NaN</td>\n",
              "      <td>20514</td>\n",
              "      <td>63826</td>\n",
              "      <td>0.40</td>\n",
              "      <td>partly-cloudy-day</td>\n",
              "      <td>10</td>\n",
              "    </tr>\n",
              "  </tbody>\n",
              "</table>\n",
              "<p>5 rows × 22 columns</p>\n",
              "</div>"
            ],
            "text/plain": [
              "   tempmax  tempmin  temp  feelslikemax  feelslikemin  feelslike   dew  \\\n",
              "0     87.9     73.5  78.9         100.9          73.5       82.5  76.5   \n",
              "1     84.8     75.3  79.6          94.0          75.3       82.7  75.7   \n",
              "2     84.5     77.1  80.5          93.5          77.1       84.6  76.2   \n",
              "3     87.9     74.6  79.3         100.2          74.6       82.4  76.3   \n",
              "4     89.7     75.3  80.9         100.5          75.3       85.4  76.3   \n",
              "\n",
              "   humidity  preciptype  windspeed  ...  cloudcover  visibility  \\\n",
              "0      93.0           0       18.3  ...        87.9         5.6   \n",
              "1      88.4           0       13.9  ...        90.4         6.6   \n",
              "2      87.0           0       16.1  ...        82.1         6.6   \n",
              "3      91.7           0       17.2  ...        90.0         5.7   \n",
              "4      87.2           0       12.8  ...        70.8         6.6   \n",
              "\n",
              "   solarradiation  solarenergy  uvindex  sunrise  sunset  moonphase  \\\n",
              "0             NaN          NaN      NaN    20523   63977       0.27   \n",
              "1             NaN          NaN      NaN    20520   63939       0.30   \n",
              "2             NaN          NaN      NaN    20518   63901       0.34   \n",
              "3             NaN          NaN      NaN    20516   63864       0.37   \n",
              "4             NaN          NaN      NaN    20514   63826       0.40   \n",
              "\n",
              "                icon  month  \n",
              "0  partly-cloudy-day      9  \n",
              "1             cloudy      9  \n",
              "2  partly-cloudy-day      9  \n",
              "3  partly-cloudy-day      9  \n",
              "4  partly-cloudy-day     10  \n",
              "\n",
              "[5 rows x 22 columns]"
            ]
          },
          "execution_count": 5,
          "metadata": {},
          "output_type": "execute_result"
        }
      ],
      "source": [
        "drop_columns = ['description', 'conditions', 'stations', 'source']\n",
        "\n",
        "df = df.drop(columns=drop_columns, axis=1)\n",
        "\n",
        "df.head()"
      ]
    },
    {
      "cell_type": "markdown",
      "metadata": {
        "id": "Z_dFD8xYhJd-"
      },
      "source": [
        "# Detect outlier"
      ]
    },
    {
      "cell_type": "code",
      "execution_count": 6,
      "metadata": {
        "colab": {
          "base_uri": "https://localhost:8080/",
          "height": 349
        },
        "id": "Nglx3lUjhgm_",
        "outputId": "980c0f37-b18a-445f-e7bb-2681854f1439"
      },
      "outputs": [
        {
          "data": {
            "text/html": [
              "<div>\n",
              "<style scoped>\n",
              "    .dataframe tbody tr th:only-of-type {\n",
              "        vertical-align: middle;\n",
              "    }\n",
              "\n",
              "    .dataframe tbody tr th {\n",
              "        vertical-align: top;\n",
              "    }\n",
              "\n",
              "    .dataframe thead th {\n",
              "        text-align: right;\n",
              "    }\n",
              "</style>\n",
              "<table border=\"1\" class=\"dataframe\">\n",
              "  <thead>\n",
              "    <tr style=\"text-align: right;\">\n",
              "      <th></th>\n",
              "      <th>tempmax</th>\n",
              "      <th>tempmin</th>\n",
              "      <th>temp</th>\n",
              "      <th>feelslikemax</th>\n",
              "      <th>feelslikemin</th>\n",
              "      <th>feelslike</th>\n",
              "      <th>dew</th>\n",
              "      <th>humidity</th>\n",
              "      <th>preciptype</th>\n",
              "      <th>windspeed</th>\n",
              "      <th>...</th>\n",
              "      <th>pressure</th>\n",
              "      <th>cloudcover</th>\n",
              "      <th>visibility</th>\n",
              "      <th>solarradiation</th>\n",
              "      <th>solarenergy</th>\n",
              "      <th>uvindex</th>\n",
              "      <th>sunrise</th>\n",
              "      <th>sunset</th>\n",
              "      <th>moonphase</th>\n",
              "      <th>month</th>\n",
              "    </tr>\n",
              "  </thead>\n",
              "  <tbody>\n",
              "    <tr>\n",
              "      <th>count</th>\n",
              "      <td>5000.000000</td>\n",
              "      <td>5000.00000</td>\n",
              "      <td>5000.000000</td>\n",
              "      <td>5000.000000</td>\n",
              "      <td>5000.000000</td>\n",
              "      <td>5000.000000</td>\n",
              "      <td>5000.000000</td>\n",
              "      <td>5000.000000</td>\n",
              "      <td>5000.00000</td>\n",
              "      <td>5000.000000</td>\n",
              "      <td>...</td>\n",
              "      <td>4999.000000</td>\n",
              "      <td>5000.000000</td>\n",
              "      <td>5000.000000</td>\n",
              "      <td>4904.000000</td>\n",
              "      <td>4904.000000</td>\n",
              "      <td>4904.000000</td>\n",
              "      <td>5000.000000</td>\n",
              "      <td>5000.000000</td>\n",
              "      <td>5000.000000</td>\n",
              "      <td>5000.000000</td>\n",
              "    </tr>\n",
              "    <tr>\n",
              "      <th>mean</th>\n",
              "      <td>91.041220</td>\n",
              "      <td>76.14564</td>\n",
              "      <td>82.354120</td>\n",
              "      <td>99.919340</td>\n",
              "      <td>76.942880</td>\n",
              "      <td>87.187940</td>\n",
              "      <td>73.726820</td>\n",
              "      <td>77.205960</td>\n",
              "      <td>0.62780</td>\n",
              "      <td>12.067560</td>\n",
              "      <td>...</td>\n",
              "      <td>1008.960392</td>\n",
              "      <td>56.483300</td>\n",
              "      <td>6.055920</td>\n",
              "      <td>205.420310</td>\n",
              "      <td>17.744168</td>\n",
              "      <td>7.201876</td>\n",
              "      <td>20974.707800</td>\n",
              "      <td>64603.808400</td>\n",
              "      <td>0.483794</td>\n",
              "      <td>6.501000</td>\n",
              "    </tr>\n",
              "    <tr>\n",
              "      <th>std</th>\n",
              "      <td>3.281317</td>\n",
              "      <td>3.21651</td>\n",
              "      <td>2.659416</td>\n",
              "      <td>5.709696</td>\n",
              "      <td>4.945019</td>\n",
              "      <td>5.232159</td>\n",
              "      <td>3.837916</td>\n",
              "      <td>9.359366</td>\n",
              "      <td>0.48344</td>\n",
              "      <td>3.317442</td>\n",
              "      <td>...</td>\n",
              "      <td>2.042986</td>\n",
              "      <td>14.138278</td>\n",
              "      <td>1.174452</td>\n",
              "      <td>59.917768</td>\n",
              "      <td>5.181503</td>\n",
              "      <td>2.019694</td>\n",
              "      <td>884.759487</td>\n",
              "      <td>1006.387513</td>\n",
              "      <td>0.288521</td>\n",
              "      <td>3.480693</td>\n",
              "    </tr>\n",
              "    <tr>\n",
              "      <th>min</th>\n",
              "      <td>73.600000</td>\n",
              "      <td>44.50000</td>\n",
              "      <td>71.700000</td>\n",
              "      <td>73.600000</td>\n",
              "      <td>41.200000</td>\n",
              "      <td>71.700000</td>\n",
              "      <td>54.100000</td>\n",
              "      <td>49.500000</td>\n",
              "      <td>0.00000</td>\n",
              "      <td>4.500000</td>\n",
              "      <td>...</td>\n",
              "      <td>1000.500000</td>\n",
              "      <td>12.900000</td>\n",
              "      <td>3.200000</td>\n",
              "      <td>15.000000</td>\n",
              "      <td>1.300000</td>\n",
              "      <td>1.000000</td>\n",
              "      <td>19777.000000</td>\n",
              "      <td>62796.000000</td>\n",
              "      <td>0.000000</td>\n",
              "      <td>1.000000</td>\n",
              "    </tr>\n",
              "    <tr>\n",
              "      <th>25%</th>\n",
              "      <td>89.600000</td>\n",
              "      <td>74.37500</td>\n",
              "      <td>80.700000</td>\n",
              "      <td>96.400000</td>\n",
              "      <td>74.375000</td>\n",
              "      <td>83.575000</td>\n",
              "      <td>71.800000</td>\n",
              "      <td>70.800000</td>\n",
              "      <td>0.00000</td>\n",
              "      <td>9.800000</td>\n",
              "      <td>...</td>\n",
              "      <td>1007.600000</td>\n",
              "      <td>46.700000</td>\n",
              "      <td>5.800000</td>\n",
              "      <td>155.975000</td>\n",
              "      <td>13.500000</td>\n",
              "      <td>6.000000</td>\n",
              "      <td>20388.000000</td>\n",
              "      <td>63715.750000</td>\n",
              "      <td>0.250000</td>\n",
              "      <td>3.000000</td>\n",
              "    </tr>\n",
              "    <tr>\n",
              "      <th>50%</th>\n",
              "      <td>91.400000</td>\n",
              "      <td>76.90000</td>\n",
              "      <td>82.400000</td>\n",
              "      <td>100.300000</td>\n",
              "      <td>76.900000</td>\n",
              "      <td>86.800000</td>\n",
              "      <td>74.800000</td>\n",
              "      <td>77.900000</td>\n",
              "      <td>1.00000</td>\n",
              "      <td>11.400000</td>\n",
              "      <td>...</td>\n",
              "      <td>1008.800000</td>\n",
              "      <td>55.400000</td>\n",
              "      <td>6.100000</td>\n",
              "      <td>204.700000</td>\n",
              "      <td>17.700000</td>\n",
              "      <td>7.000000</td>\n",
              "      <td>20608.000000</td>\n",
              "      <td>64989.500000</td>\n",
              "      <td>0.480000</td>\n",
              "      <td>6.000000</td>\n",
              "    </tr>\n",
              "    <tr>\n",
              "      <th>75%</th>\n",
              "      <td>93.200000</td>\n",
              "      <td>78.70000</td>\n",
              "      <td>84.100000</td>\n",
              "      <td>103.900000</td>\n",
              "      <td>78.700000</td>\n",
              "      <td>90.400000</td>\n",
              "      <td>76.500000</td>\n",
              "      <td>84.300000</td>\n",
              "      <td>1.00000</td>\n",
              "      <td>13.900000</td>\n",
              "      <td>...</td>\n",
              "      <td>1010.300000</td>\n",
              "      <td>65.900000</td>\n",
              "      <td>6.400000</td>\n",
              "      <td>255.400000</td>\n",
              "      <td>22.000000</td>\n",
              "      <td>9.000000</td>\n",
              "      <td>21733.000000</td>\n",
              "      <td>65337.000000</td>\n",
              "      <td>0.750000</td>\n",
              "      <td>10.000000</td>\n",
              "    </tr>\n",
              "    <tr>\n",
              "      <th>max</th>\n",
              "      <td>100.500000</td>\n",
              "      <td>85.90000</td>\n",
              "      <td>90.500000</td>\n",
              "      <td>119.700000</td>\n",
              "      <td>100.300000</td>\n",
              "      <td>106.900000</td>\n",
              "      <td>81.400000</td>\n",
              "      <td>99.800000</td>\n",
              "      <td>1.00000</td>\n",
              "      <td>31.100000</td>\n",
              "      <td>...</td>\n",
              "      <td>1015.800000</td>\n",
              "      <td>100.000000</td>\n",
              "      <td>47.600000</td>\n",
              "      <td>324.200000</td>\n",
              "      <td>28.000000</td>\n",
              "      <td>10.000000</td>\n",
              "      <td>22618.000000</td>\n",
              "      <td>66006.000000</td>\n",
              "      <td>0.980000</td>\n",
              "      <td>12.000000</td>\n",
              "    </tr>\n",
              "  </tbody>\n",
              "</table>\n",
              "<p>8 rows × 21 columns</p>\n",
              "</div>"
            ],
            "text/plain": [
              "           tempmax     tempmin         temp  feelslikemax  feelslikemin  \\\n",
              "count  5000.000000  5000.00000  5000.000000   5000.000000   5000.000000   \n",
              "mean     91.041220    76.14564    82.354120     99.919340     76.942880   \n",
              "std       3.281317     3.21651     2.659416      5.709696      4.945019   \n",
              "min      73.600000    44.50000    71.700000     73.600000     41.200000   \n",
              "25%      89.600000    74.37500    80.700000     96.400000     74.375000   \n",
              "50%      91.400000    76.90000    82.400000    100.300000     76.900000   \n",
              "75%      93.200000    78.70000    84.100000    103.900000     78.700000   \n",
              "max     100.500000    85.90000    90.500000    119.700000    100.300000   \n",
              "\n",
              "         feelslike          dew     humidity  preciptype    windspeed  ...  \\\n",
              "count  5000.000000  5000.000000  5000.000000  5000.00000  5000.000000  ...   \n",
              "mean     87.187940    73.726820    77.205960     0.62780    12.067560  ...   \n",
              "std       5.232159     3.837916     9.359366     0.48344     3.317442  ...   \n",
              "min      71.700000    54.100000    49.500000     0.00000     4.500000  ...   \n",
              "25%      83.575000    71.800000    70.800000     0.00000     9.800000  ...   \n",
              "50%      86.800000    74.800000    77.900000     1.00000    11.400000  ...   \n",
              "75%      90.400000    76.500000    84.300000     1.00000    13.900000  ...   \n",
              "max     106.900000    81.400000    99.800000     1.00000    31.100000  ...   \n",
              "\n",
              "          pressure   cloudcover   visibility  solarradiation  solarenergy  \\\n",
              "count  4999.000000  5000.000000  5000.000000     4904.000000  4904.000000   \n",
              "mean   1008.960392    56.483300     6.055920      205.420310    17.744168   \n",
              "std       2.042986    14.138278     1.174452       59.917768     5.181503   \n",
              "min    1000.500000    12.900000     3.200000       15.000000     1.300000   \n",
              "25%    1007.600000    46.700000     5.800000      155.975000    13.500000   \n",
              "50%    1008.800000    55.400000     6.100000      204.700000    17.700000   \n",
              "75%    1010.300000    65.900000     6.400000      255.400000    22.000000   \n",
              "max    1015.800000   100.000000    47.600000      324.200000    28.000000   \n",
              "\n",
              "           uvindex       sunrise        sunset    moonphase        month  \n",
              "count  4904.000000   5000.000000   5000.000000  5000.000000  5000.000000  \n",
              "mean      7.201876  20974.707800  64603.808400     0.483794     6.501000  \n",
              "std       2.019694    884.759487   1006.387513     0.288521     3.480693  \n",
              "min       1.000000  19777.000000  62796.000000     0.000000     1.000000  \n",
              "25%       6.000000  20388.000000  63715.750000     0.250000     3.000000  \n",
              "50%       7.000000  20608.000000  64989.500000     0.480000     6.000000  \n",
              "75%       9.000000  21733.000000  65337.000000     0.750000    10.000000  \n",
              "max      10.000000  22618.000000  66006.000000     0.980000    12.000000  \n",
              "\n",
              "[8 rows x 21 columns]"
            ]
          },
          "execution_count": 6,
          "metadata": {},
          "output_type": "execute_result"
        }
      ],
      "source": [
        "df.describe()"
      ]
    },
    {
      "cell_type": "code",
      "execution_count": 7,
      "metadata": {
        "colab": {
          "base_uri": "https://localhost:8080/",
          "height": 1000
        },
        "id": "bYk71V6Ofvoa",
        "outputId": "8b59d762-36a3-4c0e-c550-1e82a99aeced"
      },
      "outputs": [
        {
          "data": {
            "image/png": "[encoded data removed]",
            "text/plain": [
              "<Figure size 640x480 with 1 Axes>"
            ]
          },
          "metadata": {},
          "output_type": "display_data"
        },
        {
          "data": {
            "image/png": "[encoded data removed]",
            "text/plain": [
              "<Figure size 640x480 with 1 Axes>"
            ]
          },
          "metadata": {},
          "output_type": "display_data"
        },
        {
          "data": {
            "image/png": "[encoded data removed]",
            "text/plain": [
              "<Figure size 640x480 with 1 Axes>"
            ]
          },
          "metadata": {},
          "output_type": "display_data"
        },
        {
          "data": {
            "image/png": "[encoded data removed]",
            "text/plain": [
              "<Figure size 640x480 with 1 Axes>"
            ]
          },
          "metadata": {},
          "output_type": "display_data"
        },
        {
          "data": {
            "image/png": "[encoded data removed]",
            "text/plain": [
              "<Figure size 640x480 with 1 Axes>"
            ]
          },
          "metadata": {},
          "output_type": "display_data"
        },
        {
          "data": {
            "image/png": "[encoded data removed]",
            "text/plain": [
              "<Figure size 640x480 with 1 Axes>"
            ]
          },
          "metadata": {},
          "output_type": "display_data"
        },
        {
          "data": {
            "image/png": "[encoded data removed]",
            "text/plain": [
              "<Figure size 640x480 with 1 Axes>"
            ]
          },
          "metadata": {},
          "output_type": "display_data"
        },
        {
          "data": {
            "image/png": "[encoded data removed]",
            "text/plain": [
              "<Figure size 640x480 with 1 Axes>"
            ]
          },
          "metadata": {},
          "output_type": "display_data"
        },
        {
          "data": {
            "image/png": "[encoded data removed]",
            "text/plain": [
              "<Figure size 640x480 with 1 Axes>"
            ]
          },
          "metadata": {},
          "output_type": "display_data"
        },
        {
          "data": {
            "image/png": "[encoded data removed]",
            "text/plain": [
              "<Figure size 640x480 with 1 Axes>"
            ]
          },
          "metadata": {},
          "output_type": "display_data"
        },
        {
          "data": {
            "image/png": "[encoded data removed]",
            "text/plain": [
              "<Figure size 640x480 with 1 Axes>"
            ]
          },
          "metadata": {},
          "output_type": "display_data"
        },
        {
          "data": {
            "image/png": "[encoded data removed]",
            "text/plain": [
              "<Figure size 640x480 with 1 Axes>"
            ]
          },
          "metadata": {},
          "output_type": "display_data"
        },
        {
          "data": {
            "image/png": "[encoded data removed]",
            "text/plain": [
              "<Figure size 640x480 with 1 Axes>"
            ]
          },
          "metadata": {},
          "output_type": "display_data"
        },
        {
          "data": {
            "image/png": "[encoded data removed]",
            "text/plain": [
              "<Figure size 640x480 with 1 Axes>"
            ]
          },
          "metadata": {},
          "output_type": "display_data"
        },
        {
          "data": {
            "image/png": "[encoded data removed]",
            "text/plain": [
              "<Figure size 640x480 with 1 Axes>"
            ]
          },
          "metadata": {},
          "output_type": "display_data"
        },
        {
          "data": {
            "image/png": "[encoded data removed]",
            "text/plain": [
              "<Figure size 640x480 with 1 Axes>"
            ]
          },
          "metadata": {},
          "output_type": "display_data"
        },
        {
          "data": {
            "image/png": "[encoded data removed]",
            "text/plain": [
              "<Figure size 640x480 with 1 Axes>"
            ]
          },
          "metadata": {},
          "output_type": "display_data"
        },
        {
          "data": {
            "image/png": "[encoded data removed]",
            "text/plain": [
              "<Figure size 640x480 with 1 Axes>"
            ]
          },
          "metadata": {},
          "output_type": "display_data"
        },
        {
          "data": {
            "image/png": "[encoded data removed]",
            "text/plain": [
              "<Figure size 640x480 with 1 Axes>"
            ]
          },
          "metadata": {},
          "output_type": "display_data"
        },
        {
          "data": {
            "image/png": "[encoded data removed]",
            "text/plain": [
              "<Figure size 640x480 with 1 Axes>"
            ]
          },
          "metadata": {},
          "output_type": "display_data"
        },
        {
          "data": {
            "image/png": "[encoded data removed]",
            "text/plain": [
              "<Figure size 640x480 with 1 Axes>"
            ]
          },
          "metadata": {},
          "output_type": "display_data"
        }
      ],
      "source": [
        "numeric_cols = df.drop(columns=['icon'])\n",
        "\n",
        "for col in numeric_cols:\n",
        "    sns.boxplot(x = df[col])\n",
        "    plt.show()"
      ]
    },
    {
      "cell_type": "markdown",
      "metadata": {
        "id": "8t4A62NTo4Xl"
      },
      "source": [
        "Since there are quite many features with outliers and no domain knowledge available, only extreme outliers will be removed"
      ]
    },
    {
      "cell_type": "code",
      "execution_count": 8,
      "metadata": {
        "id": "YmVUSFJVpsg2"
      },
      "outputs": [],
      "source": [
        "columns = ['tempmax', 'tempmin', 'feelslikemax', 'feelslikemin', 'dew',  'windspeed', 'visibility']\n",
        "\n",
        "threshold = 3\n",
        "\n",
        "for column in columns:\n",
        "    z_scores = stats.zscore(df[column])\n",
        "    df = df[(z_scores < threshold) & (z_scores > -threshold)]"
      ]
    },
    {
      "cell_type": "code",
      "execution_count": 9,
      "metadata": {
        "colab": {
          "base_uri": "https://localhost:8080/",
          "height": 1000
        },
        "id": "qh3mhIUukdyI",
        "outputId": "ff7ee9b8-c1ba-4fc6-d875-1412746339cc"
      },
      "outputs": [
        {
          "data": {
            "image/png": "[encoded data removed]",
            "text/plain": [
              "<Figure size 640x480 with 1 Axes>"
            ]
          },
          "metadata": {},
          "output_type": "display_data"
        },
        {
          "data": {
            "image/png": "[encoded data removed]",
            "text/plain": [
              "<Figure size 640x480 with 1 Axes>"
            ]
          },
          "metadata": {},
          "output_type": "display_data"
        },
        {
          "data": {
            "image/png": "[encoded data removed]",
            "text/plain": [
              "<Figure size 640x480 with 1 Axes>"
            ]
          },
          "metadata": {},
          "output_type": "display_data"
        },
        {
          "data": {
            "image/png": "[encoded data removed]",
            "text/plain": [
              "<Figure size 640x480 with 1 Axes>"
            ]
          },
          "metadata": {},
          "output_type": "display_data"
        },
        {
          "data": {
            "image/png": "[encoded data removed]",
            "text/plain": [
              "<Figure size 640x480 with 1 Axes>"
            ]
          },
          "metadata": {},
          "output_type": "display_data"
        },
        {
          "data": {
            "image/png": "[encoded data removed]",
            "text/plain": [
              "<Figure size 640x480 with 1 Axes>"
            ]
          },
          "metadata": {},
          "output_type": "display_data"
        },
        {
          "data": {
            "image/png": "[encoded data removed]",
            "text/plain": [
              "<Figure size 640x480 with 1 Axes>"
            ]
          },
          "metadata": {},
          "output_type": "display_data"
        },
        {
          "data": {
            "image/png": "[encoded data removed]",
            "text/plain": [
              "<Figure size 640x480 with 1 Axes>"
            ]
          },
          "metadata": {},
          "output_type": "display_data"
        },
        {
          "data": {
            "image/png": "[encoded data removed]",
            "text/plain": [
              "<Figure size 640x480 with 1 Axes>"
            ]
          },
          "metadata": {},
          "output_type": "display_data"
        },
        {
          "data": {
            "image/png": "[encoded data removed]",
            "text/plain": [
              "<Figure size 640x480 with 1 Axes>"
            ]
          },
          "metadata": {},
          "output_type": "display_data"
        },
        {
          "data": {
            "image/png": "[encoded data removed]",
            "text/plain": [
              "<Figure size 640x480 with 1 Axes>"
            ]
          },
          "metadata": {},
          "output_type": "display_data"
        },
        {
          "data": {
            "image/png": "[encoded data removed]",
            "text/plain": [
              "<Figure size 640x480 with 1 Axes>"
            ]
          },
          "metadata": {},
          "output_type": "display_data"
        },
        {
          "data": {
            "image/png": "[encoded data removed]",
            "text/plain": [
              "<Figure size 640x480 with 1 Axes>"
            ]
          },
          "metadata": {},
          "output_type": "display_data"
        },
        {
          "data": {
            "image/png": "[encoded data removed]",
            "text/plain": [
              "<Figure size 640x480 with 1 Axes>"
            ]
          },
          "metadata": {},
          "output_type": "display_data"
        },
        {
          "data": {
            "image/png": "[encoded data removed]",
            "text/plain": [
              "<Figure size 640x480 with 1 Axes>"
            ]
          },
          "metadata": {},
          "output_type": "display_data"
        },
        {
          "data": {
            "image/png": "[encoded data removed]",
            "text/plain": [
              "<Figure size 640x480 with 1 Axes>"
            ]
          },
          "metadata": {},
          "output_type": "display_data"
        },
        {
          "data": {
            "image/png": "[encoded data removed]",
            "text/plain": [
              "<Figure size 640x480 with 1 Axes>"
            ]
          },
          "metadata": {},
          "output_type": "display_data"
        },
        {
          "data": {
            "image/png": "[encoded data removed]",
            "text/plain": [
              "<Figure size 640x480 with 1 Axes>"
            ]
          },
          "metadata": {},
          "output_type": "display_data"
        },
        {
          "data": {
            "image/png": "[encoded data removed]",
            "text/plain": [
              "<Figure size 640x480 with 1 Axes>"
            ]
          },
          "metadata": {},
          "output_type": "display_data"
        },
        {
          "data": {
            "image/png": "[encoded data removed]",
            "text/plain": [
              "<Figure size 640x480 with 1 Axes>"
            ]
          },
          "metadata": {},
          "output_type": "display_data"
        },
        {
          "data": {
            "image/png": "[encoded data removed]",
            "text/plain": [
              "<Figure size 640x480 with 1 Axes>"
            ]
          },
          "metadata": {},
          "output_type": "display_data"
        }
      ],
      "source": [
        "for col in numeric_cols:\n",
        "    sns.boxplot(x = df[col])\n",
        "    plt.show()"
      ]
    },
    {
      "cell_type": "markdown",
      "metadata": {
        "id": "t90c-RAtrWT4"
      },
      "source": [
        "The boxplot diagrams of the features are more concentrated, with significantly fewer outliers compared to the original dataset."
      ]
    },
    {
      "cell_type": "markdown",
      "metadata": {
        "id": "aATWBdlxYvB3"
      },
      "source": [
        "# Imput missing values"
      ]
    },
    {
      "cell_type": "code",
      "execution_count": 10,
      "metadata": {
        "colab": {
          "base_uri": "https://localhost:8080/"
        },
        "id": "1fW3oKHQYa97",
        "outputId": "d06a9f03-e439-4162-dc72-b900aaf93d41"
      },
      "outputs": [
        {
          "name": "stdout",
          "output_type": "stream",
          "text": [
            "tempmax            0\n",
            "tempmin            0\n",
            "temp               0\n",
            "feelslikemax       0\n",
            "feelslikemin       0\n",
            "feelslike          0\n",
            "dew                0\n",
            "humidity           0\n",
            "preciptype         0\n",
            "windspeed          0\n",
            "winddir            0\n",
            "pressure           1\n",
            "cloudcover         0\n",
            "visibility         0\n",
            "solarradiation    96\n",
            "solarenergy       96\n",
            "uvindex           96\n",
            "sunrise            0\n",
            "sunset             0\n",
            "moonphase          0\n",
            "icon               0\n",
            "month              0\n",
            "dtype: int64\n"
          ]
        }
      ],
      "source": [
        "missing_values_per_column = df.isnull().sum()\n",
        "\n",
        "print(missing_values_per_column)"
      ]
    },
    {
      "cell_type": "markdown",
      "metadata": {
        "id": "oQRv8sUUpPNE"
      },
      "source": [
        "Using KNN imputer to impute missing values"
      ]
    },
    {
      "cell_type": "code",
      "execution_count": 11,
      "metadata": {
        "id": "npNnOZlPretZ"
      },
      "outputs": [
        {
          "name": "stdout",
          "output_type": "stream",
          "text": [
            "      tempmax  tempmin  temp  feelslikemax  feelslikemin  feelslike   dew  \\\n",
            "0        87.9     73.5  78.9         100.9          73.5       82.5  76.5   \n",
            "1        84.8     75.3  79.6          94.0          75.3       82.7  75.7   \n",
            "2        84.5     77.1  80.5          93.5          77.1       84.6  76.2   \n",
            "3        87.9     74.6  79.3         100.2          74.6       82.4  76.3   \n",
            "4        89.7     75.3  80.9         100.5          75.3       85.4  76.3   \n",
            "...       ...      ...   ...           ...           ...        ...   ...   \n",
            "4725     92.6     80.4  83.8         111.9          87.4       95.1  79.3   \n",
            "4726     93.2     80.3  85.0         112.7          87.4       97.5  79.3   \n",
            "4727     93.2     80.5  84.3         113.5          87.9       97.1  79.9   \n",
            "4728     95.0     75.2  85.5         116.0          75.2       98.0  79.7   \n",
            "4729     91.4     77.0  81.7         110.8          77.0       88.1  79.0   \n",
            "\n",
            "      humidity  preciptype  windspeed  ...  cloudcover  visibility  \\\n",
            "0         93.0         0.0       18.3  ...        87.9         5.6   \n",
            "1         88.4         0.0       13.9  ...        90.4         6.6   \n",
            "2         87.0         0.0       16.1  ...        82.1         6.6   \n",
            "3         91.7         0.0       17.2  ...        90.0         5.7   \n",
            "4         87.2         0.0       12.8  ...        70.8         6.6   \n",
            "...        ...         ...        ...  ...         ...         ...   \n",
            "4725      87.1         1.0       12.8  ...        78.2         6.1   \n",
            "4726      83.9         1.0       18.3  ...        54.1         5.9   \n",
            "4727      87.3         1.0       16.1  ...        55.2         6.3   \n",
            "4728      84.2         1.0       18.3  ...        68.3         6.1   \n",
            "4729      92.1         1.0       14.2  ...        68.3         5.2   \n",
            "\n",
            "      solarradiation  solarenergy   uvindex  sunrise   sunset  moonphase  \\\n",
            "0         146.100000    12.700000  5.666667  20523.0  63977.0       0.27   \n",
            "1         134.733333    11.566667  4.333333  20520.0  63939.0       0.30   \n",
            "2         171.033333    14.700000  6.000000  20518.0  63901.0       0.34   \n",
            "3         174.633333    15.100000  6.666667  20516.0  63864.0       0.37   \n",
            "4         201.100000    17.366667  7.666667  20514.0  63826.0       0.40   \n",
            "...              ...          ...       ...      ...      ...        ...   \n",
            "4725      222.800000    19.400000  9.000000  19782.0  65493.0       0.31   \n",
            "4726      177.500000    15.200000  8.000000  19782.0  65510.0       0.34   \n",
            "4727      208.400000    18.100000  9.000000  19782.0  65526.0       0.37   \n",
            "4728      195.800000    16.700000  9.000000  19790.0  65592.0       0.50   \n",
            "4729      117.000000    10.100000  7.000000  19794.0  65609.0       0.54   \n",
            "\n",
            "      month               icon  \n",
            "0       9.0  partly-cloudy-day  \n",
            "1       9.0             cloudy  \n",
            "2       9.0  partly-cloudy-day  \n",
            "3       9.0  partly-cloudy-day  \n",
            "4      10.0  partly-cloudy-day  \n",
            "...     ...                ...  \n",
            "4725    5.0               rain  \n",
            "4726    5.0               rain  \n",
            "4727    5.0               rain  \n",
            "4728    6.0               rain  \n",
            "4729    6.0               rain  \n",
            "\n",
            "[4730 rows x 22 columns]\n"
          ]
        }
      ],
      "source": [
        "k_neighbors = 3\n",
        "\n",
        "df_imputed = df.drop(columns=['icon'])\n",
        "\n",
        "knn_imputer = KNNImputer(n_neighbors=k_neighbors)\n",
        "\n",
        "df_imputed = pd.DataFrame(knn_imputer.fit_transform(df_imputed), columns=df_imputed.columns)\n",
        "\n",
        "df_imputed['icon'] = df.reset_index(drop=False)['icon']\n",
        "\n",
        "print(df_imputed)"
      ]
    },
    {
      "cell_type": "code",
      "execution_count": 12,
      "metadata": {
        "colab": {
          "base_uri": "https://localhost:8080/",
          "height": 394
        },
        "id": "obQThILqsudl",
        "outputId": "0042e2ac-8128-4d52-de5d-30f000a8de18"
      },
      "outputs": [
        {
          "name": "stdout",
          "output_type": "stream",
          "text": [
            "tempmax           0\n",
            "tempmin           0\n",
            "temp              0\n",
            "feelslikemax      0\n",
            "feelslikemin      0\n",
            "feelslike         0\n",
            "dew               0\n",
            "humidity          0\n",
            "preciptype        0\n",
            "windspeed         0\n",
            "winddir           0\n",
            "pressure          0\n",
            "cloudcover        0\n",
            "visibility        0\n",
            "solarradiation    0\n",
            "solarenergy       0\n",
            "uvindex           0\n",
            "sunrise           0\n",
            "sunset            0\n",
            "moonphase         0\n",
            "month             0\n",
            "icon              0\n",
            "dtype: int64\n"
          ]
        }
      ],
      "source": [
        "missing_values_per_column = df_imputed.isnull().sum()\n",
        "\n",
        "print(missing_values_per_column)"
      ]
    },
    {
      "cell_type": "markdown",
      "metadata": {
        "id": "E6Jqdwjs9GWB"
      },
      "source": [
        "# Check multicollinearity"
      ]
    },
    {
      "cell_type": "code",
      "execution_count": 13,
      "metadata": {
        "colab": {
          "base_uri": "https://localhost:8080/",
          "height": 792
        },
        "id": "DlRufBJctyNp",
        "outputId": "6b8f6e73-ab3d-40a8-f05b-07cf9b1ab52c"
      },
      "outputs": [
        {
          "data": {
            "text/html": [
              "<div>\n",
              "<style scoped>\n",
              "    .dataframe tbody tr th:only-of-type {\n",
              "        vertical-align: middle;\n",
              "    }\n",
              "\n",
              "    .dataframe tbody tr th {\n",
              "        vertical-align: top;\n",
              "    }\n",
              "\n",
              "    .dataframe thead th {\n",
              "        text-align: right;\n",
              "    }\n",
              "</style>\n",
              "<table border=\"1\" class=\"dataframe\">\n",
              "  <thead>\n",
              "    <tr style=\"text-align: right;\">\n",
              "      <th></th>\n",
              "      <th>tempmax</th>\n",
              "      <th>tempmin</th>\n",
              "      <th>temp</th>\n",
              "      <th>feelslikemax</th>\n",
              "      <th>feelslikemin</th>\n",
              "      <th>feelslike</th>\n",
              "      <th>dew</th>\n",
              "      <th>humidity</th>\n",
              "      <th>preciptype</th>\n",
              "      <th>windspeed</th>\n",
              "      <th>...</th>\n",
              "      <th>pressure</th>\n",
              "      <th>cloudcover</th>\n",
              "      <th>visibility</th>\n",
              "      <th>solarradiation</th>\n",
              "      <th>solarenergy</th>\n",
              "      <th>uvindex</th>\n",
              "      <th>sunrise</th>\n",
              "      <th>sunset</th>\n",
              "      <th>moonphase</th>\n",
              "      <th>month</th>\n",
              "    </tr>\n",
              "  </thead>\n",
              "  <tbody>\n",
              "    <tr>\n",
              "      <th>tempmax</th>\n",
              "      <td>1.000000</td>\n",
              "      <td>0.460016</td>\n",
              "      <td>0.814620</td>\n",
              "      <td>0.500703</td>\n",
              "      <td>0.458740</td>\n",
              "      <td>0.639349</td>\n",
              "      <td>-0.067701</td>\n",
              "      <td>-0.544816</td>\n",
              "      <td>-0.226241</td>\n",
              "      <td>0.120670</td>\n",
              "      <td>...</td>\n",
              "      <td>0.102065</td>\n",
              "      <td>-0.489003</td>\n",
              "      <td>0.348509</td>\n",
              "      <td>0.390015</td>\n",
              "      <td>0.389623</td>\n",
              "      <td>0.346047</td>\n",
              "      <td>-0.107050</td>\n",
              "      <td>0.257120</td>\n",
              "      <td>0.014871</td>\n",
              "      <td>-0.344268</td>\n",
              "    </tr>\n",
              "    <tr>\n",
              "      <th>tempmin</th>\n",
              "      <td>0.460016</td>\n",
              "      <td>1.000000</td>\n",
              "      <td>0.773513</td>\n",
              "      <td>0.621291</td>\n",
              "      <td>0.999668</td>\n",
              "      <td>0.826505</td>\n",
              "      <td>0.449597</td>\n",
              "      <td>-0.078858</td>\n",
              "      <td>0.168078</td>\n",
              "      <td>0.181249</td>\n",
              "      <td>...</td>\n",
              "      <td>-0.255778</td>\n",
              "      <td>-0.036569</td>\n",
              "      <td>0.207298</td>\n",
              "      <td>0.011899</td>\n",
              "      <td>0.011404</td>\n",
              "      <td>-0.010579</td>\n",
              "      <td>-0.425841</td>\n",
              "      <td>0.352331</td>\n",
              "      <td>0.002603</td>\n",
              "      <td>-0.075760</td>\n",
              "    </tr>\n",
              "    <tr>\n",
              "      <th>temp</th>\n",
              "      <td>0.814620</td>\n",
              "      <td>0.773513</td>\n",
              "      <td>1.000000</td>\n",
              "      <td>0.596818</td>\n",
              "      <td>0.772961</td>\n",
              "      <td>0.908269</td>\n",
              "      <td>0.164622</td>\n",
              "      <td>-0.457510</td>\n",
              "      <td>-0.063955</td>\n",
              "      <td>0.102871</td>\n",
              "      <td>...</td>\n",
              "      <td>-0.046033</td>\n",
              "      <td>-0.370568</td>\n",
              "      <td>0.362122</td>\n",
              "      <td>0.267486</td>\n",
              "      <td>0.267005</td>\n",
              "      <td>0.228366</td>\n",
              "      <td>-0.259279</td>\n",
              "      <td>0.310386</td>\n",
              "      <td>0.006109</td>\n",
              "      <td>-0.214379</td>\n",
              "    </tr>\n",
              "    <tr>\n",
              "      <th>feelslikemax</th>\n",
              "      <td>0.500703</td>\n",
              "      <td>0.621291</td>\n",
              "      <td>0.596818</td>\n",
              "      <td>1.000000</td>\n",
              "      <td>0.623046</td>\n",
              "      <td>0.798345</td>\n",
              "      <td>0.728902</td>\n",
              "      <td>0.270039</td>\n",
              "      <td>0.353794</td>\n",
              "      <td>0.263732</td>\n",
              "      <td>...</td>\n",
              "      <td>-0.448493</td>\n",
              "      <td>0.123066</td>\n",
              "      <td>-0.018128</td>\n",
              "      <td>-0.175358</td>\n",
              "      <td>-0.175628</td>\n",
              "      <td>-0.203599</td>\n",
              "      <td>-0.670517</td>\n",
              "      <td>0.485297</td>\n",
              "      <td>-0.002233</td>\n",
              "      <td>0.052155</td>\n",
              "    </tr>\n",
              "    <tr>\n",
              "      <th>feelslikemin</th>\n",
              "      <td>0.458740</td>\n",
              "      <td>0.999668</td>\n",
              "      <td>0.772961</td>\n",
              "      <td>0.623046</td>\n",
              "      <td>1.000000</td>\n",
              "      <td>0.827259</td>\n",
              "      <td>0.454316</td>\n",
              "      <td>-0.075272</td>\n",
              "      <td>0.170918</td>\n",
              "      <td>0.181253</td>\n",
              "      <td>...</td>\n",
              "      <td>-0.257933</td>\n",
              "      <td>-0.034975</td>\n",
              "      <td>0.206306</td>\n",
              "      <td>0.009102</td>\n",
              "      <td>0.008615</td>\n",
              "      <td>-0.013167</td>\n",
              "      <td>-0.427080</td>\n",
              "      <td>0.353409</td>\n",
              "      <td>0.002102</td>\n",
              "      <td>-0.074512</td>\n",
              "    </tr>\n",
              "    <tr>\n",
              "      <th>feelslike</th>\n",
              "      <td>0.639349</td>\n",
              "      <td>0.826505</td>\n",
              "      <td>0.908269</td>\n",
              "      <td>0.798345</td>\n",
              "      <td>0.827259</td>\n",
              "      <td>1.000000</td>\n",
              "      <td>0.507388</td>\n",
              "      <td>-0.114095</td>\n",
              "      <td>0.174587</td>\n",
              "      <td>0.142433</td>\n",
              "      <td>...</td>\n",
              "      <td>-0.273529</td>\n",
              "      <td>-0.130611</td>\n",
              "      <td>0.197430</td>\n",
              "      <td>0.037459</td>\n",
              "      <td>0.037053</td>\n",
              "      <td>0.004208</td>\n",
              "      <td>-0.496072</td>\n",
              "      <td>0.397258</td>\n",
              "      <td>-0.001791</td>\n",
              "      <td>-0.051515</td>\n",
              "    </tr>\n",
              "    <tr>\n",
              "      <th>dew</th>\n",
              "      <td>-0.067701</td>\n",
              "      <td>0.449597</td>\n",
              "      <td>0.164622</td>\n",
              "      <td>0.728902</td>\n",
              "      <td>0.454316</td>\n",
              "      <td>0.507388</td>\n",
              "      <td>1.000000</td>\n",
              "      <td>0.758486</td>\n",
              "      <td>0.595112</td>\n",
              "      <td>0.184055</td>\n",
              "      <td>...</td>\n",
              "      <td>-0.616716</td>\n",
              "      <td>0.484983</td>\n",
              "      <td>-0.310520</td>\n",
              "      <td>-0.493262</td>\n",
              "      <td>-0.493209</td>\n",
              "      <td>-0.495521</td>\n",
              "      <td>-0.713890</td>\n",
              "      <td>0.357174</td>\n",
              "      <td>-0.007350</td>\n",
              "      <td>0.305837</td>\n",
              "    </tr>\n",
              "    <tr>\n",
              "      <th>humidity</th>\n",
              "      <td>-0.544816</td>\n",
              "      <td>-0.078858</td>\n",
              "      <td>-0.457510</td>\n",
              "      <td>0.270039</td>\n",
              "      <td>-0.075272</td>\n",
              "      <td>-0.114095</td>\n",
              "      <td>0.758486</td>\n",
              "      <td>1.000000</td>\n",
              "      <td>0.590804</td>\n",
              "      <td>0.113042</td>\n",
              "      <td>...</td>\n",
              "      <td>-0.529386</td>\n",
              "      <td>0.686312</td>\n",
              "      <td>-0.519026</td>\n",
              "      <td>-0.603699</td>\n",
              "      <td>-0.603391</td>\n",
              "      <td>-0.583122</td>\n",
              "      <td>-0.480210</td>\n",
              "      <td>0.105447</td>\n",
              "      <td>-0.015454</td>\n",
              "      <td>0.443455</td>\n",
              "    </tr>\n",
              "    <tr>\n",
              "      <th>preciptype</th>\n",
              "      <td>-0.226241</td>\n",
              "      <td>0.168078</td>\n",
              "      <td>-0.063955</td>\n",
              "      <td>0.353794</td>\n",
              "      <td>0.170918</td>\n",
              "      <td>0.174587</td>\n",
              "      <td>0.595112</td>\n",
              "      <td>0.590804</td>\n",
              "      <td>1.000000</td>\n",
              "      <td>0.126383</td>\n",
              "      <td>...</td>\n",
              "      <td>-0.461525</td>\n",
              "      <td>0.568221</td>\n",
              "      <td>-0.338157</td>\n",
              "      <td>-0.559425</td>\n",
              "      <td>-0.559375</td>\n",
              "      <td>-0.532806</td>\n",
              "      <td>-0.539058</td>\n",
              "      <td>0.200111</td>\n",
              "      <td>-0.015462</td>\n",
              "      <td>0.370297</td>\n",
              "    </tr>\n",
              "    <tr>\n",
              "      <th>windspeed</th>\n",
              "      <td>0.120670</td>\n",
              "      <td>0.181249</td>\n",
              "      <td>0.102871</td>\n",
              "      <td>0.263732</td>\n",
              "      <td>0.181253</td>\n",
              "      <td>0.142433</td>\n",
              "      <td>0.184055</td>\n",
              "      <td>0.113042</td>\n",
              "      <td>0.126383</td>\n",
              "      <td>1.000000</td>\n",
              "      <td>...</td>\n",
              "      <td>-0.302136</td>\n",
              "      <td>0.117656</td>\n",
              "      <td>0.222670</td>\n",
              "      <td>-0.072362</td>\n",
              "      <td>-0.073042</td>\n",
              "      <td>-0.097045</td>\n",
              "      <td>-0.273186</td>\n",
              "      <td>0.466928</td>\n",
              "      <td>-0.024228</td>\n",
              "      <td>-0.174130</td>\n",
              "    </tr>\n",
              "    <tr>\n",
              "      <th>winddir</th>\n",
              "      <td>-0.164599</td>\n",
              "      <td>0.146421</td>\n",
              "      <td>-0.032758</td>\n",
              "      <td>0.314453</td>\n",
              "      <td>0.148675</td>\n",
              "      <td>0.154486</td>\n",
              "      <td>0.461790</td>\n",
              "      <td>0.434248</td>\n",
              "      <td>0.342895</td>\n",
              "      <td>0.212253</td>\n",
              "      <td>...</td>\n",
              "      <td>-0.483963</td>\n",
              "      <td>0.363762</td>\n",
              "      <td>-0.169076</td>\n",
              "      <td>-0.333328</td>\n",
              "      <td>-0.333326</td>\n",
              "      <td>-0.336462</td>\n",
              "      <td>-0.469002</td>\n",
              "      <td>0.410645</td>\n",
              "      <td>-0.001321</td>\n",
              "      <td>0.125003</td>\n",
              "    </tr>\n",
              "    <tr>\n",
              "      <th>pressure</th>\n",
              "      <td>0.102065</td>\n",
              "      <td>-0.255778</td>\n",
              "      <td>-0.046033</td>\n",
              "      <td>-0.448493</td>\n",
              "      <td>-0.257933</td>\n",
              "      <td>-0.273529</td>\n",
              "      <td>-0.616716</td>\n",
              "      <td>-0.529386</td>\n",
              "      <td>-0.461525</td>\n",
              "      <td>-0.302136</td>\n",
              "      <td>...</td>\n",
              "      <td>1.000000</td>\n",
              "      <td>-0.454433</td>\n",
              "      <td>0.098021</td>\n",
              "      <td>0.448753</td>\n",
              "      <td>0.449332</td>\n",
              "      <td>0.456413</td>\n",
              "      <td>0.597966</td>\n",
              "      <td>-0.414670</td>\n",
              "      <td>0.027150</td>\n",
              "      <td>-0.216265</td>\n",
              "    </tr>\n",
              "    <tr>\n",
              "      <th>cloudcover</th>\n",
              "      <td>-0.489003</td>\n",
              "      <td>-0.036569</td>\n",
              "      <td>-0.370568</td>\n",
              "      <td>0.123066</td>\n",
              "      <td>-0.034975</td>\n",
              "      <td>-0.130611</td>\n",
              "      <td>0.484983</td>\n",
              "      <td>0.686312</td>\n",
              "      <td>0.568221</td>\n",
              "      <td>0.117656</td>\n",
              "      <td>...</td>\n",
              "      <td>-0.454433</td>\n",
              "      <td>1.000000</td>\n",
              "      <td>-0.363006</td>\n",
              "      <td>-0.582846</td>\n",
              "      <td>-0.582546</td>\n",
              "      <td>-0.551422</td>\n",
              "      <td>-0.422676</td>\n",
              "      <td>0.125497</td>\n",
              "      <td>-0.016039</td>\n",
              "      <td>0.360787</td>\n",
              "    </tr>\n",
              "    <tr>\n",
              "      <th>visibility</th>\n",
              "      <td>0.348509</td>\n",
              "      <td>0.207298</td>\n",
              "      <td>0.362122</td>\n",
              "      <td>-0.018128</td>\n",
              "      <td>0.206306</td>\n",
              "      <td>0.197430</td>\n",
              "      <td>-0.310520</td>\n",
              "      <td>-0.519026</td>\n",
              "      <td>-0.338157</td>\n",
              "      <td>0.222670</td>\n",
              "      <td>...</td>\n",
              "      <td>0.098021</td>\n",
              "      <td>-0.363006</td>\n",
              "      <td>1.000000</td>\n",
              "      <td>0.319507</td>\n",
              "      <td>0.319125</td>\n",
              "      <td>0.292038</td>\n",
              "      <td>0.152739</td>\n",
              "      <td>0.142286</td>\n",
              "      <td>-0.016802</td>\n",
              "      <td>-0.322705</td>\n",
              "    </tr>\n",
              "    <tr>\n",
              "      <th>solarradiation</th>\n",
              "      <td>0.390015</td>\n",
              "      <td>0.011899</td>\n",
              "      <td>0.267486</td>\n",
              "      <td>-0.175358</td>\n",
              "      <td>0.009102</td>\n",
              "      <td>0.037459</td>\n",
              "      <td>-0.493262</td>\n",
              "      <td>-0.603699</td>\n",
              "      <td>-0.559425</td>\n",
              "      <td>-0.072362</td>\n",
              "      <td>...</td>\n",
              "      <td>0.448753</td>\n",
              "      <td>-0.582846</td>\n",
              "      <td>0.319507</td>\n",
              "      <td>1.000000</td>\n",
              "      <td>0.999808</td>\n",
              "      <td>0.957831</td>\n",
              "      <td>0.420220</td>\n",
              "      <td>-0.095283</td>\n",
              "      <td>0.010824</td>\n",
              "      <td>-0.393997</td>\n",
              "    </tr>\n",
              "    <tr>\n",
              "      <th>solarenergy</th>\n",
              "      <td>0.389623</td>\n",
              "      <td>0.011404</td>\n",
              "      <td>0.267005</td>\n",
              "      <td>-0.175628</td>\n",
              "      <td>0.008615</td>\n",
              "      <td>0.037053</td>\n",
              "      <td>-0.493209</td>\n",
              "      <td>-0.603391</td>\n",
              "      <td>-0.559375</td>\n",
              "      <td>-0.073042</td>\n",
              "      <td>...</td>\n",
              "      <td>0.449332</td>\n",
              "      <td>-0.582546</td>\n",
              "      <td>0.319125</td>\n",
              "      <td>0.999808</td>\n",
              "      <td>1.000000</td>\n",
              "      <td>0.957534</td>\n",
              "      <td>0.420680</td>\n",
              "      <td>-0.096303</td>\n",
              "      <td>0.010973</td>\n",
              "      <td>-0.393176</td>\n",
              "    </tr>\n",
              "    <tr>\n",
              "      <th>uvindex</th>\n",
              "      <td>0.346047</td>\n",
              "      <td>-0.010579</td>\n",
              "      <td>0.228366</td>\n",
              "      <td>-0.203599</td>\n",
              "      <td>-0.013167</td>\n",
              "      <td>0.004208</td>\n",
              "      <td>-0.495521</td>\n",
              "      <td>-0.583122</td>\n",
              "      <td>-0.532806</td>\n",
              "      <td>-0.097045</td>\n",
              "      <td>...</td>\n",
              "      <td>0.456413</td>\n",
              "      <td>-0.551422</td>\n",
              "      <td>0.292038</td>\n",
              "      <td>0.957831</td>\n",
              "      <td>0.957534</td>\n",
              "      <td>1.000000</td>\n",
              "      <td>0.446182</td>\n",
              "      <td>-0.143920</td>\n",
              "      <td>0.005559</td>\n",
              "      <td>-0.363538</td>\n",
              "    </tr>\n",
              "    <tr>\n",
              "      <th>sunrise</th>\n",
              "      <td>-0.107050</td>\n",
              "      <td>-0.425841</td>\n",
              "      <td>-0.259279</td>\n",
              "      <td>-0.670517</td>\n",
              "      <td>-0.427080</td>\n",
              "      <td>-0.496072</td>\n",
              "      <td>-0.713890</td>\n",
              "      <td>-0.480210</td>\n",
              "      <td>-0.539058</td>\n",
              "      <td>-0.273186</td>\n",
              "      <td>...</td>\n",
              "      <td>0.597966</td>\n",
              "      <td>-0.422676</td>\n",
              "      <td>0.152739</td>\n",
              "      <td>0.420220</td>\n",
              "      <td>0.420680</td>\n",
              "      <td>0.446182</td>\n",
              "      <td>1.000000</td>\n",
              "      <td>-0.580482</td>\n",
              "      <td>-0.003890</td>\n",
              "      <td>-0.222476</td>\n",
              "    </tr>\n",
              "    <tr>\n",
              "      <th>sunset</th>\n",
              "      <td>0.257120</td>\n",
              "      <td>0.352331</td>\n",
              "      <td>0.310386</td>\n",
              "      <td>0.485297</td>\n",
              "      <td>0.353409</td>\n",
              "      <td>0.397258</td>\n",
              "      <td>0.357174</td>\n",
              "      <td>0.105447</td>\n",
              "      <td>0.200111</td>\n",
              "      <td>0.466928</td>\n",
              "      <td>...</td>\n",
              "      <td>-0.414670</td>\n",
              "      <td>0.125497</td>\n",
              "      <td>0.142286</td>\n",
              "      <td>-0.095283</td>\n",
              "      <td>-0.096303</td>\n",
              "      <td>-0.143920</td>\n",
              "      <td>-0.580482</td>\n",
              "      <td>1.000000</td>\n",
              "      <td>0.000173</td>\n",
              "      <td>-0.405986</td>\n",
              "    </tr>\n",
              "    <tr>\n",
              "      <th>moonphase</th>\n",
              "      <td>0.014871</td>\n",
              "      <td>0.002603</td>\n",
              "      <td>0.006109</td>\n",
              "      <td>-0.002233</td>\n",
              "      <td>0.002102</td>\n",
              "      <td>-0.001791</td>\n",
              "      <td>-0.007350</td>\n",
              "      <td>-0.015454</td>\n",
              "      <td>-0.015462</td>\n",
              "      <td>-0.024228</td>\n",
              "      <td>...</td>\n",
              "      <td>0.027150</td>\n",
              "      <td>-0.016039</td>\n",
              "      <td>-0.016802</td>\n",
              "      <td>0.010824</td>\n",
              "      <td>0.010973</td>\n",
              "      <td>0.005559</td>\n",
              "      <td>-0.003890</td>\n",
              "      <td>0.000173</td>\n",
              "      <td>1.000000</td>\n",
              "      <td>0.003219</td>\n",
              "    </tr>\n",
              "    <tr>\n",
              "      <th>month</th>\n",
              "      <td>-0.344268</td>\n",
              "      <td>-0.075760</td>\n",
              "      <td>-0.214379</td>\n",
              "      <td>0.052155</td>\n",
              "      <td>-0.074512</td>\n",
              "      <td>-0.051515</td>\n",
              "      <td>0.305837</td>\n",
              "      <td>0.443455</td>\n",
              "      <td>0.370297</td>\n",
              "      <td>-0.174130</td>\n",
              "      <td>...</td>\n",
              "      <td>-0.216265</td>\n",
              "      <td>0.360787</td>\n",
              "      <td>-0.322705</td>\n",
              "      <td>-0.393997</td>\n",
              "      <td>-0.393176</td>\n",
              "      <td>-0.363538</td>\n",
              "      <td>-0.222476</td>\n",
              "      <td>-0.405986</td>\n",
              "      <td>0.003219</td>\n",
              "      <td>1.000000</td>\n",
              "    </tr>\n",
              "  </tbody>\n",
              "</table>\n",
              "<p>21 rows × 21 columns</p>\n",
              "</div>"
            ],
            "text/plain": [
              "                 tempmax   tempmin      temp  feelslikemax  feelslikemin  \\\n",
              "tempmax         1.000000  0.460016  0.814620      0.500703      0.458740   \n",
              "tempmin         0.460016  1.000000  0.773513      0.621291      0.999668   \n",
              "temp            0.814620  0.773513  1.000000      0.596818      0.772961   \n",
              "feelslikemax    0.500703  0.621291  0.596818      1.000000      0.623046   \n",
              "feelslikemin    0.458740  0.999668  0.772961      0.623046      1.000000   \n",
              "feelslike       0.639349  0.826505  0.908269      0.798345      0.827259   \n",
              "dew            -0.067701  0.449597  0.164622      0.728902      0.454316   \n",
              "humidity       -0.544816 -0.078858 -0.457510      0.270039     -0.075272   \n",
              "preciptype     -0.226241  0.168078 -0.063955      0.353794      0.170918   \n",
              "windspeed       0.120670  0.181249  0.102871      0.263732      0.181253   \n",
              "winddir        -0.164599  0.146421 -0.032758      0.314453      0.148675   \n",
              "pressure        0.102065 -0.255778 -0.046033     -0.448493     -0.257933   \n",
              "cloudcover     -0.489003 -0.036569 -0.370568      0.123066     -0.034975   \n",
              "visibility      0.348509  0.207298  0.362122     -0.018128      0.206306   \n",
              "solarradiation  0.390015  0.011899  0.267486     -0.175358      0.009102   \n",
              "solarenergy     0.389623  0.011404  0.267005     -0.175628      0.008615   \n",
              "uvindex         0.346047 -0.010579  0.228366     -0.203599     -0.013167   \n",
              "sunrise        -0.107050 -0.425841 -0.259279     -0.670517     -0.427080   \n",
              "sunset          0.257120  0.352331  0.310386      0.485297      0.353409   \n",
              "moonphase       0.014871  0.002603  0.006109     -0.002233      0.002102   \n",
              "month          -0.344268 -0.075760 -0.214379      0.052155     -0.074512   \n",
              "\n",
              "                feelslike       dew  humidity  preciptype  windspeed  ...  \\\n",
              "tempmax          0.639349 -0.067701 -0.544816   -0.226241   0.120670  ...   \n",
              "tempmin          0.826505  0.449597 -0.078858    0.168078   0.181249  ...   \n",
              "temp             0.908269  0.164622 -0.457510   -0.063955   0.102871  ...   \n",
              "feelslikemax     0.798345  0.728902  0.270039    0.353794   0.263732  ...   \n",
              "feelslikemin     0.827259  0.454316 -0.075272    0.170918   0.181253  ...   \n",
              "feelslike        1.000000  0.507388 -0.114095    0.174587   0.142433  ...   \n",
              "dew              0.507388  1.000000  0.758486    0.595112   0.184055  ...   \n",
              "humidity        -0.114095  0.758486  1.000000    0.590804   0.113042  ...   \n",
              "preciptype       0.174587  0.595112  0.590804    1.000000   0.126383  ...   \n",
              "windspeed        0.142433  0.184055  0.113042    0.126383   1.000000  ...   \n",
              "winddir          0.154486  0.461790  0.434248    0.342895   0.212253  ...   \n",
              "pressure        -0.273529 -0.616716 -0.529386   -0.461525  -0.302136  ...   \n",
              "cloudcover      -0.130611  0.484983  0.686312    0.568221   0.117656  ...   \n",
              "visibility       0.197430 -0.310520 -0.519026   -0.338157   0.222670  ...   \n",
              "solarradiation   0.037459 -0.493262 -0.603699   -0.559425  -0.072362  ...   \n",
              "solarenergy      0.037053 -0.493209 -0.603391   -0.559375  -0.073042  ...   \n",
              "uvindex          0.004208 -0.495521 -0.583122   -0.532806  -0.097045  ...   \n",
              "sunrise         -0.496072 -0.713890 -0.480210   -0.539058  -0.273186  ...   \n",
              "sunset           0.397258  0.357174  0.105447    0.200111   0.466928  ...   \n",
              "moonphase       -0.001791 -0.007350 -0.015454   -0.015462  -0.024228  ...   \n",
              "month           -0.051515  0.305837  0.443455    0.370297  -0.174130  ...   \n",
              "\n",
              "                pressure  cloudcover  visibility  solarradiation  solarenergy  \\\n",
              "tempmax         0.102065   -0.489003    0.348509        0.390015     0.389623   \n",
              "tempmin        -0.255778   -0.036569    0.207298        0.011899     0.011404   \n",
              "temp           -0.046033   -0.370568    0.362122        0.267486     0.267005   \n",
              "feelslikemax   -0.448493    0.123066   -0.018128       -0.175358    -0.175628   \n",
              "feelslikemin   -0.257933   -0.034975    0.206306        0.009102     0.008615   \n",
              "feelslike      -0.273529   -0.130611    0.197430        0.037459     0.037053   \n",
              "dew            -0.616716    0.484983   -0.310520       -0.493262    -0.493209   \n",
              "humidity       -0.529386    0.686312   -0.519026       -0.603699    -0.603391   \n",
              "preciptype     -0.461525    0.568221   -0.338157       -0.559425    -0.559375   \n",
              "windspeed      -0.302136    0.117656    0.222670       -0.072362    -0.073042   \n",
              "winddir        -0.483963    0.363762   -0.169076       -0.333328    -0.333326   \n",
              "pressure        1.000000   -0.454433    0.098021        0.448753     0.449332   \n",
              "cloudcover     -0.454433    1.000000   -0.363006       -0.582846    -0.582546   \n",
              "visibility      0.098021   -0.363006    1.000000        0.319507     0.319125   \n",
              "solarradiation  0.448753   -0.582846    0.319507        1.000000     0.999808   \n",
              "solarenergy     0.449332   -0.582546    0.319125        0.999808     1.000000   \n",
              "uvindex         0.456413   -0.551422    0.292038        0.957831     0.957534   \n",
              "sunrise         0.597966   -0.422676    0.152739        0.420220     0.420680   \n",
              "sunset         -0.414670    0.125497    0.142286       -0.095283    -0.096303   \n",
              "moonphase       0.027150   -0.016039   -0.016802        0.010824     0.010973   \n",
              "month          -0.216265    0.360787   -0.322705       -0.393997    -0.393176   \n",
              "\n",
              "                 uvindex   sunrise    sunset  moonphase     month  \n",
              "tempmax         0.346047 -0.107050  0.257120   0.014871 -0.344268  \n",
              "tempmin        -0.010579 -0.425841  0.352331   0.002603 -0.075760  \n",
              "temp            0.228366 -0.259279  0.310386   0.006109 -0.214379  \n",
              "feelslikemax   -0.203599 -0.670517  0.485297  -0.002233  0.052155  \n",
              "feelslikemin   -0.013167 -0.427080  0.353409   0.002102 -0.074512  \n",
              "feelslike       0.004208 -0.496072  0.397258  -0.001791 -0.051515  \n",
              "dew            -0.495521 -0.713890  0.357174  -0.007350  0.305837  \n",
              "humidity       -0.583122 -0.480210  0.105447  -0.015454  0.443455  \n",
              "preciptype     -0.532806 -0.539058  0.200111  -0.015462  0.370297  \n",
              "windspeed      -0.097045 -0.273186  0.466928  -0.024228 -0.174130  \n",
              "winddir        -0.336462 -0.469002  0.410645  -0.001321  0.125003  \n",
              "pressure        0.456413  0.597966 -0.414670   0.027150 -0.216265  \n",
              "cloudcover     -0.551422 -0.422676  0.125497  -0.016039  0.360787  \n",
              "visibility      0.292038  0.152739  0.142286  -0.016802 -0.322705  \n",
              "solarradiation  0.957831  0.420220 -0.095283   0.010824 -0.393997  \n",
              "solarenergy     0.957534  0.420680 -0.096303   0.010973 -0.393176  \n",
              "uvindex         1.000000  0.446182 -0.143920   0.005559 -0.363538  \n",
              "sunrise         0.446182  1.000000 -0.580482  -0.003890 -0.222476  \n",
              "sunset         -0.143920 -0.580482  1.000000   0.000173 -0.405986  \n",
              "moonphase       0.005559 -0.003890  0.000173   1.000000  0.003219  \n",
              "month          -0.363538 -0.222476 -0.405986   0.003219  1.000000  \n",
              "\n",
              "[21 rows x 21 columns]"
            ]
          },
          "execution_count": 13,
          "metadata": {},
          "output_type": "execute_result"
        }
      ],
      "source": [
        "df_imputed.drop(columns=['icon']).corr(method=\"spearman\")"
      ]
    },
    {
      "cell_type": "code",
      "execution_count": 14,
      "metadata": {
        "id": "rbX6baN84knQ"
      },
      "outputs": [],
      "source": [
        "target = ['icon']\n",
        "features = df_imputed.columns.drop(target)\n",
        "X = df_imputed[features]\n",
        "y = df_imputed[target]\n",
        "\n",
        "scaler = StandardScaler()\n",
        "scaler.fit(X)\n",
        "X_scaled = scaler.transform(X)"
      ]
    },
    {
      "cell_type": "code",
      "execution_count": 15,
      "metadata": {
        "colab": {
          "base_uri": "https://localhost:8080/"
        },
        "id": "i1bg-yoQ43Df",
        "outputId": "3df68d7d-cb0c-42c9-fb83-8c6fcbc05654"
      },
      "outputs": [
        {
          "name": "stdout",
          "output_type": "stream",
          "text": [
            "           Feature          VIF\n",
            "14  solarradiation  2603.285052\n",
            "15     solarenergy  2576.543651\n",
            "7         humidity   199.007313\n",
            "6              dew   198.145954\n",
            "2             temp    90.069156\n",
            "5        feelslike    39.244692\n",
            "1          tempmin    14.556411\n",
            "16         uvindex    12.558147\n",
            "3     feelslikemax    10.212187\n",
            "4     feelslikemin     9.956670\n",
            "0          tempmax     9.361763\n",
            "17         sunrise     3.959977\n",
            "18          sunset     3.425218\n",
            "20           month     3.072347\n",
            "12      cloudcover     2.496930\n",
            "11        pressure     2.115055\n",
            "8       preciptype     2.106020\n",
            "10         winddir     1.572901\n",
            "13      visibility     1.558748\n",
            "9        windspeed     1.497408\n",
            "19       moonphase     1.003994\n"
          ]
        }
      ],
      "source": [
        "vif_data_scaled = pd.DataFrame()\n",
        "vif_data_scaled[\"Feature\"] = X.columns\n",
        "vif_data_scaled[\"VIF\"] = [variance_inflation_factor(X_scaled, i) for i in range(X_scaled.shape[1])]\n",
        "\n",
        "print(vif_data_scaled.sort_values(\"VIF\", ascending=False))"
      ]
    },
    {
      "cell_type": "code",
      "execution_count": 16,
      "metadata": {
        "colab": {
          "base_uri": "https://localhost:8080/"
        },
        "id": "ydkXXSxp6Mwo",
        "outputId": "1987f225-cea6-438b-b270-68a157afb375"
      },
      "outputs": [
        {
          "name": "stdout",
          "output_type": "stream",
          "text": [
            "           Feature          VIF\n",
            "14  solarradiation  2603.285052\n",
            "15     solarenergy  2576.543651\n",
            "7         humidity   199.007313\n",
            "6              dew   198.145954\n",
            "2             temp    90.069156\n",
            "5        feelslike    39.244692\n",
            "1          tempmin    14.556411\n",
            "16         uvindex    12.558147\n",
            "3     feelslikemax    10.212187\n",
            "4     feelslikemin     9.956670\n",
            "0          tempmax     9.361763\n"
          ]
        }
      ],
      "source": [
        "high_vif_cols = vif_data_scaled[vif_data_scaled[\"VIF\"] > 5]\n",
        "print(high_vif_cols.sort_values(\"VIF\", ascending=False))"
      ]
    },
    {
      "cell_type": "markdown",
      "metadata": {
        "id": "i1RBCg667SSd"
      },
      "source": [
        "Remove high VIF columns sequencely"
      ]
    },
    {
      "cell_type": "code",
      "execution_count": 17,
      "metadata": {
        "colab": {
          "base_uri": "https://localhost:8080/"
        },
        "id": "QdRwm6_x6SEG",
        "outputId": "1d58a1e4-1572-4cbb-870d-9ea4eb816120"
      },
      "outputs": [
        {
          "name": "stdout",
          "output_type": "stream",
          "text": [
            "         Feature         VIF\n",
            "0        tempmax    9.361657\n",
            "1        tempmin   14.556409\n",
            "2           temp   90.037464\n",
            "3   feelslikemax   10.212166\n",
            "4   feelslikemin    9.955846\n",
            "5      feelslike   39.237515\n",
            "6            dew  198.108054\n",
            "7       humidity  198.975721\n",
            "8     preciptype    2.105976\n",
            "9      windspeed    1.497392\n",
            "10       winddir    1.572321\n",
            "11      pressure    2.113191\n",
            "12    cloudcover    2.494564\n",
            "13    visibility    1.558703\n",
            "14   solarenergy   13.715529\n",
            "15       uvindex   12.423262\n",
            "16       sunrise    3.957573\n",
            "17        sunset    3.420715\n",
            "18     moonphase    1.003994\n",
            "19         month    3.071835\n"
          ]
        }
      ],
      "source": [
        "X = X.loc[:, X.columns != 'solarradiation']\n",
        "scaler = StandardScaler()\n",
        "scaler.fit(X)\n",
        "X_scaled = scaler.transform(X)\n",
        "\n",
        "vif_data_scaled = pd.DataFrame()\n",
        "vif_data_scaled[\"Feature\"] = X.columns\n",
        "vif_data_scaled[\"VIF\"] = [variance_inflation_factor(X_scaled, i) for i in range(X_scaled.shape[1])]\n",
        "\n",
        "print(vif_data_scaled)"
      ]
    },
    {
      "cell_type": "code",
      "execution_count": 18,
      "metadata": {
        "colab": {
          "base_uri": "https://localhost:8080/"
        },
        "id": "AtDXqqsr8cRA",
        "outputId": "7bf38df4-b6ae-4d98-c8a4-6dae1c0f5980"
      },
      "outputs": [
        {
          "name": "stdout",
          "output_type": "stream",
          "text": [
            "         Feature         VIF\n",
            "0        tempmax    9.345910\n",
            "1        tempmin   14.553001\n",
            "2           temp   89.452203\n",
            "3   feelslikemax   10.197593\n",
            "4   feelslikemin    9.954433\n",
            "5      feelslike   39.085255\n",
            "6            dew  197.956214\n",
            "7       humidity  198.637890\n",
            "8     preciptype    2.049939\n",
            "9      windspeed    1.497098\n",
            "10       winddir    1.570997\n",
            "11      pressure    2.110020\n",
            "12    cloudcover    2.464741\n",
            "13    visibility    1.558012\n",
            "14       uvindex    1.772456\n",
            "15       sunrise    3.920237\n",
            "16        sunset    3.393557\n",
            "17     moonphase    1.003801\n",
            "18         month    3.068330\n"
          ]
        }
      ],
      "source": [
        "X = X.loc[:, X.columns != 'solarenergy']\n",
        "scaler = StandardScaler()\n",
        "scaler.fit(X)\n",
        "X_scaled = scaler.transform(X)\n",
        "\n",
        "vif_data_scaled = pd.DataFrame()\n",
        "vif_data_scaled[\"Feature\"] = X.columns\n",
        "vif_data_scaled[\"VIF\"] = [variance_inflation_factor(X_scaled, i) for i in range(X_scaled.shape[1])]\n",
        "\n",
        "print(vif_data_scaled)"
      ]
    },
    {
      "cell_type": "code",
      "execution_count": 19,
      "metadata": {
        "colab": {
          "base_uri": "https://localhost:8080/"
        },
        "id": "jhxkaxJk8e_p",
        "outputId": "46f69efd-39ff-4aa7-eccc-4a9ceff5b66f"
      },
      "outputs": [
        {
          "name": "stdout",
          "output_type": "stream",
          "text": [
            "         Feature        VIF\n",
            "0        tempmax   9.058329\n",
            "1        tempmin  13.762925\n",
            "2           temp  38.552682\n",
            "3   feelslikemax  10.195591\n",
            "4   feelslikemin   9.590607\n",
            "5      feelslike  33.869371\n",
            "6            dew   9.324712\n",
            "7     preciptype   2.049685\n",
            "8      windspeed   1.491183\n",
            "9        winddir   1.570993\n",
            "10      pressure   2.106664\n",
            "11    cloudcover   2.463037\n",
            "12    visibility   1.506366\n",
            "13       uvindex   1.772207\n",
            "14       sunrise   3.888559\n",
            "15        sunset   3.390557\n",
            "16     moonphase   1.003799\n",
            "17         month   3.062856\n"
          ]
        }
      ],
      "source": [
        "X = X.loc[:, X.columns != 'humidity']\n",
        "scaler = StandardScaler()\n",
        "scaler.fit(X)\n",
        "X_scaled = scaler.transform(X)\n",
        "\n",
        "vif_data_scaled = pd.DataFrame()\n",
        "vif_data_scaled[\"Feature\"] = X.columns\n",
        "vif_data_scaled[\"VIF\"] = [variance_inflation_factor(X_scaled, i) for i in range(X_scaled.shape[1])]\n",
        "\n",
        "print(vif_data_scaled)"
      ]
    },
    {
      "cell_type": "code",
      "execution_count": 20,
      "metadata": {
        "colab": {
          "base_uri": "https://localhost:8080/"
        },
        "id": "VYlbEOHm8ny6",
        "outputId": "fcc04dcd-949b-4465-b997-1d7c84080b83"
      },
      "outputs": [
        {
          "name": "stdout",
          "output_type": "stream",
          "text": [
            "         Feature       VIF\n",
            "0        tempmax  5.564940\n",
            "1        tempmin  8.334682\n",
            "2   feelslikemax  8.938009\n",
            "3   feelslikemin  7.777144\n",
            "4      feelslike  8.768623\n",
            "5            dew  8.169618\n",
            "6     preciptype  2.043921\n",
            "7      windspeed  1.491177\n",
            "8        winddir  1.570974\n",
            "9       pressure  2.103832\n",
            "10    cloudcover  2.461398\n",
            "11    visibility  1.503775\n",
            "12       uvindex  1.761368\n",
            "13       sunrise  3.879081\n",
            "14        sunset  3.388853\n",
            "15     moonphase  1.003697\n",
            "16         month  3.046918\n"
          ]
        }
      ],
      "source": [
        "X = X.loc[:, X.columns != 'temp']\n",
        "scaler = StandardScaler()\n",
        "scaler.fit(X)\n",
        "X_scaled = scaler.transform(X)\n",
        "\n",
        "vif_data_scaled = pd.DataFrame()\n",
        "vif_data_scaled[\"Feature\"] = X.columns\n",
        "vif_data_scaled[\"VIF\"] = [variance_inflation_factor(X_scaled, i) for i in range(X_scaled.shape[1])]\n",
        "\n",
        "print(vif_data_scaled)"
      ]
    },
    {
      "cell_type": "code",
      "execution_count": 21,
      "metadata": {
        "colab": {
          "base_uri": "https://localhost:8080/"
        },
        "id": "0Ty3y72A-how",
        "outputId": "dbe3a9e3-14ed-4462-ada1-f4af9324bfc2"
      },
      "outputs": [
        {
          "name": "stdout",
          "output_type": "stream",
          "text": [
            "         Feature       VIF\n",
            "0        tempmax  5.012386\n",
            "1        tempmin  8.109080\n",
            "2   feelslikemax  8.427725\n",
            "3   feelslikemin  7.106084\n",
            "4            dew  7.804708\n",
            "5     preciptype  2.039965\n",
            "6      windspeed  1.414807\n",
            "7        winddir  1.570098\n",
            "8       pressure  2.103756\n",
            "9     cloudcover  2.320923\n",
            "10    visibility  1.430458\n",
            "11       uvindex  1.761236\n",
            "12       sunrise  3.861223\n",
            "13        sunset  3.383389\n",
            "14     moonphase  1.003574\n",
            "15         month  3.041736\n"
          ]
        }
      ],
      "source": [
        "X = X.loc[:, X.columns != 'feelslike']\n",
        "scaler = StandardScaler()\n",
        "scaler.fit(X)\n",
        "X_scaled = scaler.transform(X)\n",
        "\n",
        "vif_data_scaled = pd.DataFrame()\n",
        "vif_data_scaled[\"Feature\"] = X.columns\n",
        "vif_data_scaled[\"VIF\"] = [variance_inflation_factor(X_scaled, i) for i in range(X_scaled.shape[1])]\n",
        "\n",
        "print(vif_data_scaled)"
      ]
    },
    {
      "cell_type": "code",
      "execution_count": 22,
      "metadata": {
        "colab": {
          "base_uri": "https://localhost:8080/"
        },
        "id": "-Xs2EJjF-oba",
        "outputId": "3f109647-f6a2-4e43-8648-8cf19411ee0e"
      },
      "outputs": [
        {
          "name": "stdout",
          "output_type": "stream",
          "text": [
            "         Feature       VIF\n",
            "0        tempmax  2.277129\n",
            "1        tempmin  8.100258\n",
            "2   feelslikemin  7.106075\n",
            "3            dew  3.787130\n",
            "4     preciptype  2.038805\n",
            "5      windspeed  1.405428\n",
            "6        winddir  1.567468\n",
            "7       pressure  2.100503\n",
            "8     cloudcover  2.319671\n",
            "9     visibility  1.430439\n",
            "10       uvindex  1.761135\n",
            "11       sunrise  3.822019\n",
            "12        sunset  3.327560\n",
            "13     moonphase  1.003512\n",
            "14         month  3.036619\n"
          ]
        }
      ],
      "source": [
        "X = X.loc[:, X.columns != 'feelslikemax']\n",
        "scaler = StandardScaler()\n",
        "scaler.fit(X)\n",
        "X_scaled = scaler.transform(X)\n",
        "\n",
        "vif_data_scaled = pd.DataFrame()\n",
        "vif_data_scaled[\"Feature\"] = X.columns\n",
        "vif_data_scaled[\"VIF\"] = [variance_inflation_factor(X_scaled, i) for i in range(X_scaled.shape[1])]\n",
        "\n",
        "print(vif_data_scaled)"
      ]
    },
    {
      "cell_type": "code",
      "execution_count": 23,
      "metadata": {
        "colab": {
          "base_uri": "https://localhost:8080/"
        },
        "id": "GcG1t5xP-99d",
        "outputId": "71457bd2-f953-4960-8b1f-ef589b555659"
      },
      "outputs": [
        {
          "name": "stdout",
          "output_type": "stream",
          "text": [
            "       Feature       VIF\n",
            "0      tempmax  2.274254\n",
            "1      tempmin  2.176115\n",
            "2          dew  3.775780\n",
            "3   preciptype  2.020429\n",
            "4    windspeed  1.400523\n",
            "5      winddir  1.567440\n",
            "6     pressure  2.097901\n",
            "7   cloudcover  2.317798\n",
            "8   visibility  1.428732\n",
            "9      uvindex  1.759950\n",
            "10     sunrise  3.793118\n",
            "11      sunset  3.324693\n",
            "12   moonphase  1.003418\n",
            "13       month  3.021924\n"
          ]
        }
      ],
      "source": [
        "X = X.loc[:, X.columns != 'feelslikemin']\n",
        "scaler = StandardScaler()\n",
        "scaler.fit(X)\n",
        "X_scaled = scaler.transform(X)\n",
        "\n",
        "vif_data_scaled = pd.DataFrame()\n",
        "vif_data_scaled[\"Feature\"] = X.columns\n",
        "vif_data_scaled[\"VIF\"] = [variance_inflation_factor(X_scaled, i) for i in range(X_scaled.shape[1])]\n",
        "\n",
        "print(vif_data_scaled)"
      ]
    },
    {
      "cell_type": "code",
      "execution_count": 24,
      "metadata": {
        "colab": {
          "base_uri": "https://localhost:8080/",
          "height": 469
        },
        "id": "SbTzMIPP_u1K",
        "outputId": "a3c44889-235b-4ed6-f8da-113ae4016a99"
      },
      "outputs": [
        {
          "name": "stderr",
          "output_type": "stream",
          "text": [
            "C:\\Users\\User\\AppData\\Local\\Temp\\ipykernel_20492\\1809537093.py:2: SettingWithCopyWarning: \n",
            "A value is trying to be set on a copy of a slice from a DataFrame.\n",
            "Try using .loc[row_indexer,col_indexer] = value instead\n",
            "\n",
            "See the caveats in the documentation: https://pandas.pydata.org/pandas-docs/stable/user_guide/indexing.html#returning-a-view-versus-a-copy\n",
            "  df['label'] = df_imputed['icon']\n"
          ]
        },
        {
          "data": {
            "text/html": [
              "<div>\n",
              "<style scoped>\n",
              "    .dataframe tbody tr th:only-of-type {\n",
              "        vertical-align: middle;\n",
              "    }\n",
              "\n",
              "    .dataframe tbody tr th {\n",
              "        vertical-align: top;\n",
              "    }\n",
              "\n",
              "    .dataframe thead th {\n",
              "        text-align: right;\n",
              "    }\n",
              "</style>\n",
              "<table border=\"1\" class=\"dataframe\">\n",
              "  <thead>\n",
              "    <tr style=\"text-align: right;\">\n",
              "      <th></th>\n",
              "      <th>tempmax</th>\n",
              "      <th>tempmin</th>\n",
              "      <th>dew</th>\n",
              "      <th>preciptype</th>\n",
              "      <th>windspeed</th>\n",
              "      <th>winddir</th>\n",
              "      <th>pressure</th>\n",
              "      <th>cloudcover</th>\n",
              "      <th>visibility</th>\n",
              "      <th>uvindex</th>\n",
              "      <th>sunrise</th>\n",
              "      <th>sunset</th>\n",
              "      <th>moonphase</th>\n",
              "      <th>month</th>\n",
              "      <th>label</th>\n",
              "    </tr>\n",
              "  </thead>\n",
              "  <tbody>\n",
              "    <tr>\n",
              "      <th>0</th>\n",
              "      <td>87.9</td>\n",
              "      <td>73.5</td>\n",
              "      <td>76.5</td>\n",
              "      <td>0.0</td>\n",
              "      <td>18.3</td>\n",
              "      <td>263.1</td>\n",
              "      <td>1005.5</td>\n",
              "      <td>87.9</td>\n",
              "      <td>5.6</td>\n",
              "      <td>5.666667</td>\n",
              "      <td>20523.0</td>\n",
              "      <td>63977.0</td>\n",
              "      <td>0.27</td>\n",
              "      <td>9.0</td>\n",
              "      <td>partly-cloudy-day</td>\n",
              "    </tr>\n",
              "    <tr>\n",
              "      <th>1</th>\n",
              "      <td>84.8</td>\n",
              "      <td>75.3</td>\n",
              "      <td>75.7</td>\n",
              "      <td>0.0</td>\n",
              "      <td>13.9</td>\n",
              "      <td>258.8</td>\n",
              "      <td>1003.1</td>\n",
              "      <td>90.4</td>\n",
              "      <td>6.6</td>\n",
              "      <td>4.333333</td>\n",
              "      <td>20520.0</td>\n",
              "      <td>63939.0</td>\n",
              "      <td>0.30</td>\n",
              "      <td>9.0</td>\n",
              "      <td>cloudy</td>\n",
              "    </tr>\n",
              "    <tr>\n",
              "      <th>2</th>\n",
              "      <td>84.5</td>\n",
              "      <td>77.1</td>\n",
              "      <td>76.2</td>\n",
              "      <td>0.0</td>\n",
              "      <td>16.1</td>\n",
              "      <td>251.4</td>\n",
              "      <td>1000.5</td>\n",
              "      <td>82.1</td>\n",
              "      <td>6.6</td>\n",
              "      <td>6.000000</td>\n",
              "      <td>20518.0</td>\n",
              "      <td>63901.0</td>\n",
              "      <td>0.34</td>\n",
              "      <td>9.0</td>\n",
              "      <td>partly-cloudy-day</td>\n",
              "    </tr>\n",
              "    <tr>\n",
              "      <th>3</th>\n",
              "      <td>87.9</td>\n",
              "      <td>74.6</td>\n",
              "      <td>76.3</td>\n",
              "      <td>0.0</td>\n",
              "      <td>17.2</td>\n",
              "      <td>260.5</td>\n",
              "      <td>1002.7</td>\n",
              "      <td>90.0</td>\n",
              "      <td>5.7</td>\n",
              "      <td>6.666667</td>\n",
              "      <td>20516.0</td>\n",
              "      <td>63864.0</td>\n",
              "      <td>0.37</td>\n",
              "      <td>9.0</td>\n",
              "      <td>partly-cloudy-day</td>\n",
              "    </tr>\n",
              "    <tr>\n",
              "      <th>4</th>\n",
              "      <td>89.7</td>\n",
              "      <td>75.3</td>\n",
              "      <td>76.3</td>\n",
              "      <td>0.0</td>\n",
              "      <td>12.8</td>\n",
              "      <td>234.3</td>\n",
              "      <td>1006.0</td>\n",
              "      <td>70.8</td>\n",
              "      <td>6.6</td>\n",
              "      <td>7.666667</td>\n",
              "      <td>20514.0</td>\n",
              "      <td>63826.0</td>\n",
              "      <td>0.40</td>\n",
              "      <td>10.0</td>\n",
              "      <td>partly-cloudy-day</td>\n",
              "    </tr>\n",
              "  </tbody>\n",
              "</table>\n",
              "</div>"
            ],
            "text/plain": [
              "   tempmax  tempmin   dew  preciptype  windspeed  winddir  pressure  \\\n",
              "0     87.9     73.5  76.5         0.0       18.3    263.1    1005.5   \n",
              "1     84.8     75.3  75.7         0.0       13.9    258.8    1003.1   \n",
              "2     84.5     77.1  76.2         0.0       16.1    251.4    1000.5   \n",
              "3     87.9     74.6  76.3         0.0       17.2    260.5    1002.7   \n",
              "4     89.7     75.3  76.3         0.0       12.8    234.3    1006.0   \n",
              "\n",
              "   cloudcover  visibility   uvindex  sunrise   sunset  moonphase  month  \\\n",
              "0        87.9         5.6  5.666667  20523.0  63977.0       0.27    9.0   \n",
              "1        90.4         6.6  4.333333  20520.0  63939.0       0.30    9.0   \n",
              "2        82.1         6.6  6.000000  20518.0  63901.0       0.34    9.0   \n",
              "3        90.0         5.7  6.666667  20516.0  63864.0       0.37    9.0   \n",
              "4        70.8         6.6  7.666667  20514.0  63826.0       0.40   10.0   \n",
              "\n",
              "               label  \n",
              "0  partly-cloudy-day  \n",
              "1             cloudy  \n",
              "2  partly-cloudy-day  \n",
              "3  partly-cloudy-day  \n",
              "4  partly-cloudy-day  "
            ]
          },
          "execution_count": 24,
          "metadata": {},
          "output_type": "execute_result"
        }
      ],
      "source": [
        "df = df_imputed[X.columns]\n",
        "df['label'] = df_imputed['icon']\n",
        "\n",
        "df.to_csv('../data/processed_data.csv', index=False)\n",
        "\n",
        "df.head()"
      ]
    },
    {
      "cell_type": "markdown",
      "metadata": {
        "id": "2LwlXmnP_dM-"
      },
      "source": [
        "# Conclusion\n",
        "\n",
        "- Removed or converted columns with high missing values or those that did not contribute significantly in terms of meaning.\n",
        "- Removed extremed outliers.\n",
        "- Imputed missing values using KNN\n",
        "- Handling multicollinearity"
      ]
    }
  ],
  "metadata": {
    "colab": {
      "provenance": []
    },
    "kernelspec": {
      "display_name": "Python 3",
      "name": "python3"
    },
    "language_info": {
      "codemirror_mode": {
        "name": "ipython",
        "version": 3
      },
      "file_extension": ".py",
      "mimetype": "text/x-python",
      "name": "python",
      "nbconvert_exporter": "python",
      "pygments_lexer": "ipython3",
      "version": "3.10.11"
    }
  },
  "nbformat": 4,
  "nbformat_minor": 0
}
