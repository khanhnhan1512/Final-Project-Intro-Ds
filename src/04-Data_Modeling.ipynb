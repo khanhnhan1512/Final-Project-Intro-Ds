{
 "cells": [
  {
   "cell_type": "markdown",
   "metadata": {},
   "source": [
    "# <p style=\"text-align: center;\"> Final Project - Introduction to Data Science</p>\n",
    "# <p style=\"text-align: center;\"> <b> Data Modeling </b></p>\n",
    "---"
   ]
  },
  {
   "cell_type": "markdown",
   "metadata": {},
   "source": [
    "## Member Information\n",
    "| Name              | ID       |\n",
    "|-------------------|----------|\n",
    "|Tran Dinh Quang    | 21127406 |\n",
    "|Nguyen Hong Hanh   | 21127503 |\n",
    "|Do Quoc Tri  | 21127556 |\n",
    "| Nguyen Khanh Nhan | 21127657         |\n"
   ]
  },
  {
   "cell_type": "markdown",
   "metadata": {},
   "source": [
    "## Table of contents\n",
    "- [0. Import libraries](#0-import-libraries)\n",
    "- [1. Problem statement](#1-problem-statement)\n",
    "    - [1.1 State the problem](#11-state-the-problem)\n",
    "    - [1.2 Purpose of solving the problem](#12-purpose-of-solving-the-problem)\n",
    "- [2. Data preparation](#2-data-preparation)\n",
    "    - [2.1 Pre-processing](#21-pre-processing)\n",
    "    - [2.2 Splitting data](#22-splitting-data)\n",
    "- [3. Data modeling](#3-data-modeling)\n",
    "    - [3.1 Model selection](#31-model-selection)\n",
    "    - [3.2 Fine-tuning model](#32-fine-tuning-model)\n",
    "    - [3.3 Basic ensemble method](#33-basic-ensemble-method)\n",
    "    - [3.4 Model training](#34-model-training)\n",
    "    - [3.5 Model evaluation](#35-model-evaluation)\n",
    "\n",
    "\n",
    "---"
   ]
  },
  {
   "cell_type": "markdown",
   "metadata": {},
   "source": [
    "## 0. Import libraries"
   ]
  },
  {
   "cell_type": "code",
   "execution_count": 79,
   "metadata": {},
   "outputs": [],
   "source": [
    "import numpy as np\n",
    "import pandas as pd\n",
    "import matplotlib.pyplot as plt\n",
    "import seaborn as sns"
   ]
  },
  {
   "cell_type": "markdown",
   "metadata": {},
   "source": [
    "## 1. Problem Statement"
   ]
  },
  {
   "cell_type": "markdown",
   "metadata": {},
   "source": [
    "### 1.1 State the problem\n"
   ]
  },
  {
   "cell_type": "markdown",
   "metadata": {},
   "source": [
    "\n",
    "- Thành phố Hồ Chí Minh là một trong những thành phố lớn nhất Việt Nam, với mật độ dân số cao và nhiều khu công nghiệp, khu đô thị. Thời tiết nơi đây cũng không quá phức tạp khi chủ yếu chỉ có hai mùa là nắng và mưa.Tuy nhiên, vì là một nơi đông đúc, phát triển thì việc dự báo, phân loại thời tiết là điều cần thiết để người dân có thể chuẩn bị tốt hơn cho các hoạt động của mình.\n",
    "- Với bộ dữ liệu về tình hình thời tiết ở Thành phố Hồ Chí Minh từ tháng 9/2009 tới tháng 5/2023, chúng ta sẽ dùng mô hình học máy để thực hiện phân loại thời tiết dựa trên các thông tin về môi trường xung quanh.\n",
    "- Mô hình học máy sẽ có thể phân loại được kiểu thời tiết (mưa, nắng, ...) dựa trên các thông tin được cung cấp của môi trường xung quanh khu vực xác định."
   ]
  },
  {
   "cell_type": "markdown",
   "metadata": {},
   "source": [
    "### 1.2 Purpose of solving the problem\n"
   ]
  },
  {
   "cell_type": "markdown",
   "metadata": {},
   "source": [
    "- Với mô hình học máy, bạn có thể phân loại các điều kiện thời tiết như nắng, mưa, gió mạnh, và nhiều hơn nữa. Điều này có thể hữu ích trong việc cung cấp thông tin dự báo thời tiết cho người dùng hoặc tổ chức.\n",
    "- Nó sẽ tận dụng các yếu tố điều kiện môi trường xung quanh để phân loại và dự đoán thời tiết, cung cấp thông tin hữu ích cho các ứng dụng dự báo, phân tích, đánh giá rủi ro và tối ưu hóa hoạt động trong lĩnh vực thời tiết và môi trường.\n",
    "- Việc phân loại thời tiết sẽ giúp mọi người có thể chuẩn bị tốt hơn cho các hoạt động của mình, đặc biệt là các hoạt động ngoài trời, giao thông vận tải, ...\n",
    "- Tóm lại, mục đích của mô hình học máy trong trường hợp này là tận dụng các yếu tố điều kiện môi trường xung quanh để phân loại và dự đoán thời tiết, cung cấp thông tin hữu ích cho các ứng dụng dự báo, phân tích, đánh giá rủi ro và tối ưu hóa các hoạt động trong lĩnh vực thời tiết và môi trường."
   ]
  },
  {
   "cell_type": "markdown",
   "metadata": {},
   "source": [
    "### 1.3 How to solve the problem"
   ]
  },
  {
   "cell_type": "markdown",
   "metadata": {},
   "source": [
    "- Chúng ta sẽ sử dụng các mô hình học máy `classification` để phân loại thời tiết dựa trên các thông tin về môi trường xung quanh.\n",
    "- Trong bộ dữ liệu của ta, cột cuối cùng `icon` sẽ là cột dữ liệu mục tiêu, các cột còn lại sẽ là các cột dữ liệu đầu vào.\n",
    "- Ta sẽ huấn luyện nhiều mô hình khác nhau trên tập `train` rồi từ đó chọn ra các mô hình tốt nhất, tiêu biểu nhất để sử dụng thông qua phương pháp `k-folds cross validation` trên tập `val`.\n",
    "- Thực hiện `fine-tuning` các mô hình để tìm ra các tham số tốt nhất cho mô hình.\n",
    "- Sử dụng các phương pháp `ensemble` để cải thiện độ chính xác của mô hình.\n",
    "- Cuối cùng, ta sẽ đánh giá mô hình trên tập `test` để đánh giá độ chính xác của mô hình."
   ]
  },
  {
   "cell_type": "markdown",
   "metadata": {},
   "source": [
    "## 2. Data preparation"
   ]
  },
  {
   "cell_type": "markdown",
   "metadata": {},
   "source": [
    "### 2.1 Pre-processing"
   ]
  },
  {
   "cell_type": "markdown",
   "metadata": {},
   "source": [
    "- First, we load our `processed data`."
   ]
  },
  {
   "cell_type": "code",
   "execution_count": 64,
   "metadata": {},
   "outputs": [
    {
     "data": {
      "text/html": [
       "<div>\n",
       "<style scoped>\n",
       "    .dataframe tbody tr th:only-of-type {\n",
       "        vertical-align: middle;\n",
       "    }\n",
       "\n",
       "    .dataframe tbody tr th {\n",
       "        vertical-align: top;\n",
       "    }\n",
       "\n",
       "    .dataframe thead th {\n",
       "        text-align: right;\n",
       "    }\n",
       "</style>\n",
       "<table border=\"1\" class=\"dataframe\">\n",
       "  <thead>\n",
       "    <tr style=\"text-align: right;\">\n",
       "      <th></th>\n",
       "      <th>temp</th>\n",
       "      <th>humidity</th>\n",
       "      <th>windspeed</th>\n",
       "      <th>pressure</th>\n",
       "      <th>cloudcover</th>\n",
       "      <th>precip</th>\n",
       "      <th>precipcover</th>\n",
       "      <th>preciptype</th>\n",
       "      <th>winddir</th>\n",
       "      <th>visibility</th>\n",
       "      <th>uvindex</th>\n",
       "      <th>sunrise</th>\n",
       "      <th>sunset</th>\n",
       "      <th>moonphase</th>\n",
       "      <th>month</th>\n",
       "      <th>icon</th>\n",
       "    </tr>\n",
       "  </thead>\n",
       "  <tbody>\n",
       "    <tr>\n",
       "      <th>0</th>\n",
       "      <td>-1.557745</td>\n",
       "      <td>1.718328</td>\n",
       "      <td>2.186945</td>\n",
       "      <td>-1.836712</td>\n",
       "      <td>2.265555</td>\n",
       "      <td>3.332084</td>\n",
       "      <td>-0.653935</td>\n",
       "      <td>-1.334748</td>\n",
       "      <td>1.077456</td>\n",
       "      <td>-0.337296</td>\n",
       "      <td>-0.913358</td>\n",
       "      <td>-0.562840</td>\n",
       "      <td>-0.534073</td>\n",
       "      <td>-0.736171</td>\n",
       "      <td>0.633058</td>\n",
       "      <td>partly-cloudy-day</td>\n",
       "    </tr>\n",
       "    <tr>\n",
       "      <th>1</th>\n",
       "      <td>-0.595430</td>\n",
       "      <td>1.054397</td>\n",
       "      <td>0.333289</td>\n",
       "      <td>-1.573319</td>\n",
       "      <td>1.026222</td>\n",
       "      <td>1.101707</td>\n",
       "      <td>-0.653935</td>\n",
       "      <td>-1.334748</td>\n",
       "      <td>0.718558</td>\n",
       "      <td>0.448494</td>\n",
       "      <td>-0.744503</td>\n",
       "      <td>-0.573163</td>\n",
       "      <td>-0.679502</td>\n",
       "      <td>-0.287499</td>\n",
       "      <td>0.915128</td>\n",
       "      <td>partly-cloudy-day</td>\n",
       "    </tr>\n",
       "    <tr>\n",
       "      <th>2</th>\n",
       "      <td>0.222537</td>\n",
       "      <td>0.688090</td>\n",
       "      <td>0.333289</td>\n",
       "      <td>-0.519747</td>\n",
       "      <td>0.004317</td>\n",
       "      <td>2.669459</td>\n",
       "      <td>-0.653935</td>\n",
       "      <td>-1.334748</td>\n",
       "      <td>0.927915</td>\n",
       "      <td>0.448494</td>\n",
       "      <td>-1.251067</td>\n",
       "      <td>-0.575457</td>\n",
       "      <td>-0.715136</td>\n",
       "      <td>-0.183959</td>\n",
       "      <td>0.915128</td>\n",
       "      <td>partly-cloudy-day</td>\n",
       "    </tr>\n",
       "    <tr>\n",
       "      <th>3</th>\n",
       "      <td>-0.787893</td>\n",
       "      <td>1.729775</td>\n",
       "      <td>0.333289</td>\n",
       "      <td>-0.309032</td>\n",
       "      <td>1.424838</td>\n",
       "      <td>0.395285</td>\n",
       "      <td>-0.653935</td>\n",
       "      <td>-1.334748</td>\n",
       "      <td>0.799559</td>\n",
       "      <td>0.291336</td>\n",
       "      <td>-0.406793</td>\n",
       "      <td>-0.576604</td>\n",
       "      <td>-0.749808</td>\n",
       "      <td>-0.045906</td>\n",
       "      <td>0.915128</td>\n",
       "      <td>partly-cloudy-day</td>\n",
       "    </tr>\n",
       "    <tr>\n",
       "      <th>4</th>\n",
       "      <td>-1.124703</td>\n",
       "      <td>1.386362</td>\n",
       "      <td>-0.509282</td>\n",
       "      <td>0.007040</td>\n",
       "      <td>1.272639</td>\n",
       "      <td>0.629678</td>\n",
       "      <td>-0.653935</td>\n",
       "      <td>-1.334748</td>\n",
       "      <td>-0.137563</td>\n",
       "      <td>-0.415875</td>\n",
       "      <td>-0.913358</td>\n",
       "      <td>-0.577751</td>\n",
       "      <td>-0.785443</td>\n",
       "      <td>0.057634</td>\n",
       "      <td>0.915128</td>\n",
       "      <td>partly-cloudy-day</td>\n",
       "    </tr>\n",
       "  </tbody>\n",
       "</table>\n",
       "</div>"
      ],
      "text/plain": [
       "       temp  humidity  windspeed  pressure  cloudcover    precip  precipcover  \\\n",
       "0 -1.557745  1.718328   2.186945 -1.836712    2.265555  3.332084    -0.653935   \n",
       "1 -0.595430  1.054397   0.333289 -1.573319    1.026222  1.101707    -0.653935   \n",
       "2  0.222537  0.688090   0.333289 -0.519747    0.004317  2.669459    -0.653935   \n",
       "3 -0.787893  1.729775   0.333289 -0.309032    1.424838  0.395285    -0.653935   \n",
       "4 -1.124703  1.386362  -0.509282  0.007040    1.272639  0.629678    -0.653935   \n",
       "\n",
       "   preciptype   winddir  visibility   uvindex   sunrise    sunset  moonphase  \\\n",
       "0   -1.334748  1.077456   -0.337296 -0.913358 -0.562840 -0.534073  -0.736171   \n",
       "1   -1.334748  0.718558    0.448494 -0.744503 -0.573163 -0.679502  -0.287499   \n",
       "2   -1.334748  0.927915    0.448494 -1.251067 -0.575457 -0.715136  -0.183959   \n",
       "3   -1.334748  0.799559    0.291336 -0.406793 -0.576604 -0.749808  -0.045906   \n",
       "4   -1.334748 -0.137563   -0.415875 -0.913358 -0.577751 -0.785443   0.057634   \n",
       "\n",
       "      month               icon  \n",
       "0  0.633058  partly-cloudy-day  \n",
       "1  0.915128  partly-cloudy-day  \n",
       "2  0.915128  partly-cloudy-day  \n",
       "3  0.915128  partly-cloudy-day  \n",
       "4  0.915128  partly-cloudy-day  "
      ]
     },
     "execution_count": 64,
     "metadata": {},
     "output_type": "execute_result"
    }
   ],
   "source": [
    "df = pd.read_csv('../data/processed_data.csv')\n",
    "df.head()"
   ]
  },
  {
   "cell_type": "markdown",
   "metadata": {},
   "source": [
    "- Ở đây, ta quan sát cột `icon` (cột mục tiêu) để biết được có bao nhiêu lớp dữ liệu khác nhau."
   ]
  },
  {
   "cell_type": "code",
   "execution_count": 65,
   "metadata": {},
   "outputs": [
    {
     "data": {
      "text/html": [
       "<div>\n",
       "<style scoped>\n",
       "    .dataframe tbody tr th:only-of-type {\n",
       "        vertical-align: middle;\n",
       "    }\n",
       "\n",
       "    .dataframe tbody tr th {\n",
       "        vertical-align: top;\n",
       "    }\n",
       "\n",
       "    .dataframe thead th {\n",
       "        text-align: right;\n",
       "    }\n",
       "</style>\n",
       "<table border=\"1\" class=\"dataframe\">\n",
       "  <thead>\n",
       "    <tr style=\"text-align: right;\">\n",
       "      <th></th>\n",
       "      <th>count</th>\n",
       "    </tr>\n",
       "    <tr>\n",
       "      <th>icon</th>\n",
       "      <th></th>\n",
       "    </tr>\n",
       "  </thead>\n",
       "  <tbody>\n",
       "    <tr>\n",
       "      <th>rain</th>\n",
       "      <td>2569</td>\n",
       "    </tr>\n",
       "    <tr>\n",
       "      <th>partly-cloudy-day</th>\n",
       "      <td>1441</td>\n",
       "    </tr>\n",
       "    <tr>\n",
       "      <th>clear-day</th>\n",
       "      <td>1</td>\n",
       "    </tr>\n",
       "  </tbody>\n",
       "</table>\n",
       "</div>"
      ],
      "text/plain": [
       "                   count\n",
       "icon                    \n",
       "rain                2569\n",
       "partly-cloudy-day   1441\n",
       "clear-day              1"
      ]
     },
     "execution_count": 65,
     "metadata": {},
     "output_type": "execute_result"
    }
   ],
   "source": [
    "df['icon'].value_counts().to_frame()"
   ]
  },
  {
   "cell_type": "markdown",
   "metadata": {},
   "source": [
    "- Có 3 lớp dũ liệu khác nhau là `partly-cloudy`, `rain`, `clear-day`. Tuy nhiên trong dữ liệu chỉ có duy nhất 1 dòng có nhãn là `clear-day` vì vậy ta sẽ thực hiện xóa dòng này đi vì chắc chắn nó sẽ không giúp ích gì cho mô hình học máy của ta.\n"
   ]
  },
  {
   "cell_type": "code",
   "execution_count": 66,
   "metadata": {},
   "outputs": [
    {
     "data": {
      "text/html": [
       "<div>\n",
       "<style scoped>\n",
       "    .dataframe tbody tr th:only-of-type {\n",
       "        vertical-align: middle;\n",
       "    }\n",
       "\n",
       "    .dataframe tbody tr th {\n",
       "        vertical-align: top;\n",
       "    }\n",
       "\n",
       "    .dataframe thead th {\n",
       "        text-align: right;\n",
       "    }\n",
       "</style>\n",
       "<table border=\"1\" class=\"dataframe\">\n",
       "  <thead>\n",
       "    <tr style=\"text-align: right;\">\n",
       "      <th></th>\n",
       "      <th>count</th>\n",
       "    </tr>\n",
       "    <tr>\n",
       "      <th>icon</th>\n",
       "      <th></th>\n",
       "    </tr>\n",
       "  </thead>\n",
       "  <tbody>\n",
       "    <tr>\n",
       "      <th>rain</th>\n",
       "      <td>2569</td>\n",
       "    </tr>\n",
       "    <tr>\n",
       "      <th>partly-cloudy-day</th>\n",
       "      <td>1441</td>\n",
       "    </tr>\n",
       "  </tbody>\n",
       "</table>\n",
       "</div>"
      ],
      "text/plain": [
       "                   count\n",
       "icon                    \n",
       "rain                2569\n",
       "partly-cloudy-day   1441"
      ]
     },
     "execution_count": 66,
     "metadata": {},
     "output_type": "execute_result"
    }
   ],
   "source": [
    "id = df[df['icon'] == 'clear-day'].index[0] # find the index \n",
    "df.drop(id, inplace=True)\n",
    "# check again\n",
    "df['icon'].value_counts().to_frame()"
   ]
  },
  {
   "cell_type": "markdown",
   "metadata": {},
   "source": [
    "- Để có thể đưa vào mô hình học máy, ta cần phải chuyển các nhãn về dạng số. Ta sẽ sử dụng `LabelEncoder` để chuyển các nhãn về dạng số."
   ]
  },
  {
   "cell_type": "code",
   "execution_count": 67,
   "metadata": {},
   "outputs": [],
   "source": [
    "from sklearn.preprocessing import LabelEncoder\n",
    "le = LabelEncoder()\n",
    "df['label_encoded'] = le.fit_transform(df['icon'])"
   ]
  },
  {
   "cell_type": "code",
   "execution_count": 68,
   "metadata": {},
   "outputs": [
    {
     "data": {
      "text/html": [
       "<div>\n",
       "<style scoped>\n",
       "    .dataframe tbody tr th:only-of-type {\n",
       "        vertical-align: middle;\n",
       "    }\n",
       "\n",
       "    .dataframe tbody tr th {\n",
       "        vertical-align: top;\n",
       "    }\n",
       "\n",
       "    .dataframe thead th {\n",
       "        text-align: right;\n",
       "    }\n",
       "</style>\n",
       "<table border=\"1\" class=\"dataframe\">\n",
       "  <thead>\n",
       "    <tr style=\"text-align: right;\">\n",
       "      <th></th>\n",
       "      <th>count</th>\n",
       "    </tr>\n",
       "    <tr>\n",
       "      <th>label_encoded</th>\n",
       "      <th></th>\n",
       "    </tr>\n",
       "  </thead>\n",
       "  <tbody>\n",
       "    <tr>\n",
       "      <th>1</th>\n",
       "      <td>2569</td>\n",
       "    </tr>\n",
       "    <tr>\n",
       "      <th>0</th>\n",
       "      <td>1441</td>\n",
       "    </tr>\n",
       "  </tbody>\n",
       "</table>\n",
       "</div>"
      ],
      "text/plain": [
       "               count\n",
       "label_encoded       \n",
       "1               2569\n",
       "0               1441"
      ]
     },
     "execution_count": 68,
     "metadata": {},
     "output_type": "execute_result"
    }
   ],
   "source": [
    "df['label_encoded'].value_counts().to_frame()"
   ]
  },
  {
   "cell_type": "markdown",
   "metadata": {},
   "source": [
    "- After encoding, we can see that `rain` is encoded as `1` and `partly-cloudy-day` is encoded as `0`.\n",
    "- Chia dataframe thành 2 phần là `X` và `y` với `X` là các cột dữ liệu đầu vào, `y` là cột dữ liệu mục tiêu."
   ]
  },
  {
   "cell_type": "code",
   "execution_count": 69,
   "metadata": {},
   "outputs": [],
   "source": [
    "X = df.drop(['icon', 'label_encoded'], axis=1).values\n",
    "y = df['label_encoded'].values"
   ]
  },
  {
   "cell_type": "code",
   "execution_count": 70,
   "metadata": {},
   "outputs": [
    {
     "data": {
      "text/plain": [
       "((4010, 15), (4010,))"
      ]
     },
     "execution_count": 70,
     "metadata": {},
     "output_type": "execute_result"
    }
   ],
   "source": [
    "X.shape, y.shape"
   ]
  },
  {
   "cell_type": "markdown",
   "metadata": {},
   "source": [
    "### 2.2 Splitting data"
   ]
  },
  {
   "cell_type": "code",
   "execution_count": 71,
   "metadata": {},
   "outputs": [],
   "source": [
    "from sklearn.model_selection import train_test_split\n",
    "X_train_val, X_test, y_train_val, y_test = train_test_split(X, y, test_size=0.2, random_state=42)\n",
    "X_train, X_val, y_train, y_val = train_test_split(X_train_val, y_train_val, test_size=0.25, random_state=42)"
   ]
  },
  {
   "cell_type": "code",
   "execution_count": 72,
   "metadata": {},
   "outputs": [
    {
     "data": {
      "text/plain": [
       "((2406, 15), (802, 15), (802, 15))"
      ]
     },
     "execution_count": 72,
     "metadata": {},
     "output_type": "execute_result"
    }
   ],
   "source": [
    "X_train.shape, X_val.shape, X_test.shape"
   ]
  },
  {
   "cell_type": "markdown",
   "metadata": {},
   "source": [
    "## 3. Data Modeling"
   ]
  },
  {
   "cell_type": "markdown",
   "metadata": {},
   "source": [
    "### 3.1 Train model"
   ]
  },
  {
   "cell_type": "markdown",
   "metadata": {},
   "source": [
    "Các mô hình phân lớp sẽ được sử dụng:\n",
    "- `Logistic Regression`.\n",
    "- `K-Nearest Neighbors Classifier`.\n",
    "- `Decision Tree`.\n",
    "- `Random Forest Classifier`.\n",
    "- `Support Vector Machine`.\n",
    "- `Naive Bayes`.\n",
    "- `XGBoost Classifier`.\n",
    "---\n"
   ]
  },
  {
   "cell_type": "markdown",
   "metadata": {},
   "source": [
    "Ngoại trừ `XGBoost Classifier` và `Random Forest Classifier` thì các mô hình còn lại đều đã quá quen thuộc đối với các bài toán phân lớp. <br>"
   ]
  },
  {
   "cell_type": "markdown",
   "metadata": {},
   "source": [
    "\n",
    "- `The Random forest classifier` creates a set of decision trees from a randomly selected subset of the training set. It is basically a set of decision trees (DT) from a randomly selected subset of the training set and then It collects the votes from different decision trees to decide the final prediction.\n",
    "- `XGBoost (extreme Gradient Boosting)` là một thuật toán học máy được sử dụng cho bài toán phân loại và hồi quy. Nó là một thuật toán gradient boosting tree (cây tăng cường độ dốc) mạnh mẽ và hiệu quả. `XGBoost` sử dụng một tập hợp các cây quyết định `(decision trees)` để xây dựng mô hình. Tuy nhiên, điểm mạnh của `XGBoost` là khả năng tối ưu hóa và cải tiến các cây quyết định này để đạt được hiệu suất tốt hơn. Cụ thể, `XGBoost` sử dụng một phương pháp tối ưu hóa `gradient tree boosting`, kết hợp với `regularization` để giảm `overfitting` và cải thiện độ chính xác của mô hình."
   ]
  },
  {
   "cell_type": "markdown",
   "metadata": {},
   "source": [
    "---\n",
    "Đầu tiên ta sẽ tạo các model trên và train chúng trên tập `train` và có đánh giá sơ bộ thông qua metric `accuracy` của chúng trên tập `val`.\n",
    "- `accuracy`: đây là metric cơ bản nhất và phổ biến nhất trong bài toán phân lớp nhị phân. It is the ratio of the total number of correct predictions and the total number of predictions.\n",
    "$$\n",
    "Accuracy = \\frac{TP + TN}{TP + TN + FP + FN}\n",
    "$$\n"
   ]
  },
  {
   "cell_type": "code",
   "execution_count": 73,
   "metadata": {},
   "outputs": [],
   "source": [
    "from sklearn.linear_model import LogisticRegression\n",
    "from sklearn.neighbors import KNeighborsClassifier\n",
    "from sklearn.tree import DecisionTreeClassifier\n",
    "from sklearn.svm import SVC\n",
    "from sklearn.naive_bayes import GaussianNB\n",
    "from sklearn.ensemble import RandomForestClassifier\n",
    "from xgboost import XGBClassifier\n",
    "\n",
    "models = [\n",
    "    LogisticRegression(solver='liblinear', random_state=42, max_iter=1000),\n",
    "    KNeighborsClassifier(n_neighbors=5, metric='minkowski', p=2), # p=2 is equivalent to using the euclidean distance\n",
    "    DecisionTreeClassifier(criterion='entropy', random_state=42),\n",
    "    RandomForestClassifier(n_estimators=100, criterion='entropy', random_state=42),\n",
    "    SVC(kernel='rbf', random_state=42),\n",
    "    GaussianNB(),\n",
    "    XGBClassifier(random_state=42, use_label_encoder=False, eval_metric='logloss')\n",
    "]"
   ]
  },
  {
   "cell_type": "code",
   "execution_count": 78,
   "metadata": {},
   "outputs": [],
   "source": [
    "from sklearn.metrics import accuracy_score, confusion_matrix\n",
    "\n",
    "\n",
    "model_names = []\n",
    "model_accuracy = []\n",
    "for model in models:\n",
    "    model_names.append(type(model).__name__)\n",
    "    model.fit(X_train, y_train)\n",
    "    y_pred = model.predict(X_val)\n",
    "    model_accuracy.append(accuracy_score(y_val, y_pred))  \n",
    "    "
   ]
  },
  {
   "cell_type": "code",
   "execution_count": 86,
   "metadata": {},
   "outputs": [
    {
     "data": {
      "image/png": "[encoded data removed]",
      "text/plain": [
       "<Figure size 1200x800 with 1 Axes>"
      ]
     },
     "metadata": {},
     "output_type": "display_data"
    }
   ],
   "source": [
    "plt.figure(figsize=(12,8))\n",
    "sns.barplot(x=model_names, hue=model_names, y=model_accuracy) \n",
    "plt.xticks(rotation=45)\n",
    "plt.ylabel('Accuracy')\n",
    "plt.ylim([0.9, 1])\n",
    "plt.title('Accuracy of Classification Models on Validation Set')\n",
    "plt.show()"
   ]
  },
  {
   "cell_type": "markdown",
   "metadata": {},
   "source": [
    "**Comment:**\n",
    "- Ta có thể thấy toàn bộ các mô hình đều có `accuracy` cao trên tập `val`, điều này một phần cũng đến từ nguồn dữ liệu của ta là dữ liệu thời tiết ở thành phố Hồ Chí Minh, nơi có thời tiết khá đơn giản, không có nhiều biến động. Tuy nhiên vì mục đích lâu dài và mong muốn có thể áp dụng mô hình này cho nhiều tập dữ liệu của nhiều nơi khác nhau hoặc những nơi có khí hậu đa dạng, ta sẽ tiếp tục thực hiện bước tiếp theo là `model selection` để lựa chọn ra các mô hình tốt nhất trong số các mô hình trên."
   ]
  },
  {
   "cell_type": "markdown",
   "metadata": {},
   "source": [
    "### 3.2 Model selection"
   ]
  },
  {
   "cell_type": "markdown",
   "metadata": {},
   "source": [
    "- Ta sẽ sử dụng phương pháp `k-folds cross validation` để chọn ra ra mô hình tốt nhất, tiêu biểu nhất để sử dụng.\n",
    "- Đây là bài toán phân lớp nhị phân nên ta sẽ sử dụng metric `recall` để đánh giá các mô hình thông qua phương pháp `k-folds cross validation` trên tập `val`:\n",
    "- `recall`: is the measure of our model correctly identifying True Positives. Thus, for all the days that actually rain, how many of those did we correctly predict as rain? This is the metric we want to maximize. Because we genuinely want to accurately predict rainy days, we can tolerate predicting a non-rainy day as rainy, but we cannot accept our model predicting a rainy day as non-rainy. Therefore, we will use this metric as a primary criterion to evaluate the models.\n",
    "$$\n",
    "recall = \\frac{TP}{TP + FN}\n",
    "$$"
   ]
  },
  {
   "cell_type": "code",
   "execution_count": 96,
   "metadata": {},
   "outputs": [
    {
     "data": {
      "image/png": "[encoded data removed]",
      "text/plain": [
       "<Figure size 640x480 with 1 Axes>"
      ]
     },
     "metadata": {},
     "output_type": "display_data"
    },
    {
     "data": {
      "text/html": [
       "<div>\n",
       "<style scoped>\n",
       "    .dataframe tbody tr th:only-of-type {\n",
       "        vertical-align: middle;\n",
       "    }\n",
       "\n",
       "    .dataframe tbody tr th {\n",
       "        vertical-align: top;\n",
       "    }\n",
       "\n",
       "    .dataframe thead th {\n",
       "        text-align: right;\n",
       "    }\n",
       "</style>\n",
       "<table border=\"1\" class=\"dataframe\">\n",
       "  <thead>\n",
       "    <tr style=\"text-align: right;\">\n",
       "      <th></th>\n",
       "      <th>Mean recall</th>\n",
       "      <th>Standard deviation</th>\n",
       "    </tr>\n",
       "    <tr>\n",
       "      <th>model_name</th>\n",
       "      <th></th>\n",
       "      <th></th>\n",
       "    </tr>\n",
       "  </thead>\n",
       "  <tbody>\n",
       "    <tr>\n",
       "      <th>DecisionTreeClassifier</th>\n",
       "      <td>1.000000</td>\n",
       "      <td>0.000000</td>\n",
       "    </tr>\n",
       "    <tr>\n",
       "      <th>GaussianNB</th>\n",
       "      <td>1.000000</td>\n",
       "      <td>0.000000</td>\n",
       "    </tr>\n",
       "    <tr>\n",
       "      <th>LogisticRegression</th>\n",
       "      <td>1.000000</td>\n",
       "      <td>0.000000</td>\n",
       "    </tr>\n",
       "    <tr>\n",
       "      <th>RandomForestClassifier</th>\n",
       "      <td>1.000000</td>\n",
       "      <td>0.000000</td>\n",
       "    </tr>\n",
       "    <tr>\n",
       "      <th>SVC</th>\n",
       "      <td>1.000000</td>\n",
       "      <td>0.000000</td>\n",
       "    </tr>\n",
       "    <tr>\n",
       "      <th>XGBClassifier</th>\n",
       "      <td>1.000000</td>\n",
       "      <td>0.000000</td>\n",
       "    </tr>\n",
       "    <tr>\n",
       "      <th>KNeighborsClassifier</th>\n",
       "      <td>0.992363</td>\n",
       "      <td>0.007974</td>\n",
       "    </tr>\n",
       "  </tbody>\n",
       "</table>\n",
       "</div>"
      ],
      "text/plain": [
       "                        Mean recall  Standard deviation\n",
       "model_name                                             \n",
       "DecisionTreeClassifier     1.000000            0.000000\n",
       "GaussianNB                 1.000000            0.000000\n",
       "LogisticRegression         1.000000            0.000000\n",
       "RandomForestClassifier     1.000000            0.000000\n",
       "SVC                        1.000000            0.000000\n",
       "XGBClassifier              1.000000            0.000000\n",
       "KNeighborsClassifier       0.992363            0.007974"
      ]
     },
     "execution_count": 96,
     "metadata": {},
     "output_type": "execute_result"
    }
   ],
   "source": [
    "from sklearn.model_selection import StratifiedKFold, cross_val_score\n",
    "\n",
    "def generate_baseline(models, X, y, cv=5, plot_result = False):\n",
    "    k_fold = StratifiedKFold(cv, shuffle=True, random_state=42)\n",
    "    entries = []\n",
    "    for model in models:\n",
    "        model_name = model.__class__.__name__\n",
    "        scores = cross_val_score(model, X, y, cv=k_fold, scoring='recall')\n",
    "        for fold_idx, score in enumerate(scores):\n",
    "            entries.append((model_name, fold_idx, score))\n",
    "            \n",
    "    cv_df = pd.DataFrame(entries, columns=['model_name', 'fold_idx', 'recall'])\n",
    "    \n",
    "    if plot_result:\n",
    "        sns.boxplot(x='model_name', y='recall', data=cv_df, showmeans=True)\n",
    "        plt.xticks(rotation=90)\n",
    "        plt.show()\n",
    "        \n",
    "    # Sumary result\n",
    "    mean = cv_df.groupby('model_name')['recall'].mean()\n",
    "    std = cv_df.groupby('model_name')['recall'].std()\n",
    "    \n",
    "    result_df = pd.concat([mean, std], axis=1, ignore_index=True)\n",
    "    result_df.columns = ['Mean recall', 'Standard deviation']\n",
    "    result_df.sort_values(by='Mean recall', ascending=False, inplace=True)\n",
    "    \n",
    "    return result_df\n",
    "        \n",
    "generate_baseline(models, X_val, y_val, plot_result=True)"
   ]
  },
  {
   "cell_type": "markdown",
   "metadata": {},
   "source": [
    "**Comment:**\n",
    "- Quan sát biểu đồ box-plot cũng như bảng thống kê bên dưới sau khi thực hiện phương pháp `k-folds cross validation`, ta thấy rằng ngoại trừ `K-Nearest Neighbors Classifier` thì các mô hình còn lại đều có `recall` chính xác tuyệt đối, điều này cho thấy các mô hình này có khả năng dự đoán chính xác các ngày mưa.\n",
    "- Tuy nhiên, ta sẽ tiếp tục thực hiện bước tiếp theo là `fine-tuning` để tìm ra các tham số tốt nhất cho một số mô hình."
   ]
  },
  {
   "cell_type": "markdown",
   "metadata": {},
   "source": [
    "### 3.2 Fine-tuning model"
   ]
  },
  {
   "cell_type": "markdown",
   "metadata": {},
   "source": [
    "Ta sẽ chọn ra 3 mô hình cho việc thực hiện `fine-tuning` để tìm ra các siêu tham số:\n",
    "- K-Nearest Neighbors Classifier: qua quan sát thì ta thấy mô hình này có `recall` thấp nhất trong số các mô hình đã thử nghiệm, vì vậy việc tìm ra các siêu tham số tốt nhất cho mô hình này có thể giúp cải thiện độ chính xác của mô hình.\n",
    "- 2 mô hình còn lại ta sẽ chọn là `Random Forest Classifier` và `XGBoost Classifier` để thực hiện `fine-tuning`, vì cả hai mô hình đều cho kết quả rất tốt cũng như cả hai mô hình này đều là các mô hình `ensemble` nên việc thực hiện `fine-tuning` có thể giúp cải thiện độ chính xác của mô hình thêm hơn nữa."
   ]
  },
  {
   "cell_type": "markdown",
   "metadata": {},
   "source": [
    "Chúng ta sẽ sử dụng `GridSearchCV` để thực hiện `fine-tuning` cho các mô hình trên tập `val` để tìm ra các siêu tham số tốt nhất. <br>\n",
    "GridSearchCV is a technique for finding the optimal parameter values from a given set of parameters in a grid. It's essentially a cross-validation technique. The model as well as the parameters must be entered. After extracting the best parameter values, predictions are made. <br>\n",
    "Metric sẽ sử dụng để đánh giá các mô hình là `recall` vì đây là bài toán phân lớp nhị phân và ta mong muốn các mô hình có khả năng dự đoán chính xác các ngày mưa."
   ]
  },
  {
   "cell_type": "code",
   "execution_count": 98,
   "metadata": {},
   "outputs": [],
   "source": [
    "from sklearn.model_selection import GridSearchCV"
   ]
  },
  {
   "cell_type": "markdown",
   "metadata": {},
   "source": [
    "---\n",
    "\n",
    "Fine-tuning `K-Nearest Neighbors Classifier`:\n",
    "- `n_neighbors`: số lượng điểm láng giềng gần nhất được sử dụng để dự đoán nhãn của điểm dữ liệu mới.\n",
    "- `weights`: cách tính toán trọng số của các điểm láng giềng gần nhất.\n",
    "- `metric`: độ đo khoảng cách giữa các điểm dữ liệu."
   ]
  },
  {
   "cell_type": "code",
   "execution_count": 99,
   "metadata": {},
   "outputs": [
    {
     "name": "stdout",
     "output_type": "stream",
     "text": [
      "Best Parameters for KNN classifier:  {'metric': 'euclidean', 'n_neighbors': 3, 'weights': 'uniform'}\n"
     ]
    }
   ],
   "source": [
    "knn_classifier = KNeighborsClassifier()\n",
    "param_grid = {\n",
    "    'n_neighbors': [ 3, 5, 7], # number of neighbors\n",
    "    'weights': ['uniform', 'distance'], # weight function used in prediction\n",
    "    'metric': ['euclidean', 'manhattan'] # distance metric\n",
    "}\n",
    "grid_search = GridSearchCV(estimator=knn_classifier, param_grid=param_grid, scoring='recall', cv=5)\n",
    "\n",
    "grid_search.fit(X_val, y_val)\n",
    "print(\"Best Parameters for KNN classifier: \", grid_search.best_params_)"
   ]
  },
  {
   "cell_type": "markdown",
   "metadata": {},
   "source": [
    "---\n",
    "\n",
    "Fine-tuning `Random Forest Classifier`:\n",
    "- `n_estimators`: số lượng cây quyết định được tạo ra.\n",
    "- `criterion`: hàm để đo lường chất lượng của một phép chia.\n",
    "- `max_depth`: độ sâu tối đa của cây quyết định.\n",
    "- `min_samples_split`: số lượng mẫu tối thiểu mà một nút phải có trước khi nó có thể được chia thành các nút con."
   ]
  },
  {
   "cell_type": "code",
   "execution_count": 102,
   "metadata": {},
   "outputs": [
    {
     "name": "stdout",
     "output_type": "stream",
     "text": [
      "Best Parameters for Random Forest classifier:  {'criterion': 'entropy', 'max_depth': 5, 'min_samples_split': 2, 'n_estimators': 100}\n"
     ]
    }
   ],
   "source": [
    "rf_classifier = RandomForestClassifier()\n",
    "param_grid = {\n",
    "    'n_estimators': [100, 200, 300], # number of trees\n",
    "    'criterion': ['entropy', 'gini'], # measure the quality of a split\n",
    "    'max_depth': [5, 10, 15], # max depth of the tree\n",
    "    'min_samples_split': [2, 5, 10], # min number of samples required to split an internal node\n",
    "}\n",
    "\n",
    "grid_search = GridSearchCV(estimator=rf_classifier, param_grid=param_grid, scoring='recall', cv=5)\n",
    "grid_search.fit(X_val, y_val)\n",
    "print(\"Best Parameters for Random Forest classifier: \", grid_search.best_params_)\n"
   ]
  },
  {
   "cell_type": "markdown",
   "metadata": {},
   "source": [
    "---\n",
    "\n",
    "Fine-tuning `XGBoost Classifier` "
   ]
  },
  {
   "cell_type": "markdown",
   "metadata": {},
   "source": [
    "In XGBoost as we mentioned above, there are two main types of hyperparameters: `tree-specific` and `learning task-specific`.\n",
    "- `Tree-specific hyperparameters` control the construction and complexity of the decision trees:\n",
    "    - `max_depth`: maximum depth of a tree.\n",
    "    - `n_estimators`: number of trees to be created.\n",
    "    - `min_child_weight`: minimum sum of instance weight (hessian) needed in a child.\n",
    "- `Learning task-specific hyperparameters` control the overall behavior of the model and the learning process:\n",
    "    - `learning_rate`: step size shrinkage used to prevent overfitting. It ranges from 0 to 1."
   ]
  },
  {
   "cell_type": "code",
   "execution_count": 103,
   "metadata": {},
   "outputs": [
    {
     "name": "stdout",
     "output_type": "stream",
     "text": [
      "Best Parameters for XGBoost classifier:  {'learning_rate': 0.1, 'max_depth': 5, 'min_child_weight': 1, 'n_estimators': 100}\n"
     ]
    }
   ],
   "source": [
    "xgb_classifier = XGBClassifier()\n",
    "param_grid = {\n",
    "    'n_estimators': [100, 200, 300], # number of trees\n",
    "    'max_depth': [5, 10, 15], # max depth of the tree\n",
    "    'min_child_weight': [1, 5, 10], # min number of samples required to split an internal node\n",
    "    'learning_rate': [0.1, 0.01, 0.001], # learning rate\n",
    "}\n",
    "\n",
    "grid_search = GridSearchCV(estimator=xgb_classifier, param_grid=param_grid, scoring='recall', cv=5)\n",
    "grid_search.fit(X_val, y_val)\n",
    "print(\"Best Parameters for XGBoost classifier: \", grid_search.best_params_)"
   ]
  },
  {
   "cell_type": "markdown",
   "metadata": {},
   "source": [
    "### 3.3 Basic ensemble method"
   ]
  },
  {
   "cell_type": "markdown",
   "metadata": {},
   "source": [
    "Ta sẽ sử dụng kỹ thuật `Weighted Average` đối với kết quả dự đoán bằng cách sử dụng kết quả dự đoán của nhiều model."
   ]
  },
  {
   "cell_type": "markdown",
   "metadata": {},
   "source": [
    "### 3.4 Model training"
   ]
  },
  {
   "cell_type": "markdown",
   "metadata": {},
   "source": [
    "After fine-tuning and find the best hyperparameters for each model, we will train them on the `train_val` set to check"
   ]
  },
  {
   "cell_type": "markdown",
   "metadata": {},
   "source": [
    "### 3.5 Model evaluation"
   ]
  }
 ],
 "metadata": {
  "kernelspec": {
   "display_name": "Python 3",
   "language": "python",
   "name": "python3"
  },
  "language_info": {
   "codemirror_mode": {
    "name": "ipython",
    "version": 3
   },
   "file_extension": ".py",
   "mimetype": "text/x-python",
   "name": "python",
   "nbconvert_exporter": "python",
   "pygments_lexer": "ipython3",
   "version": "3.10.11"
  }
 },
 "nbformat": 4,
 "nbformat_minor": 2
}
