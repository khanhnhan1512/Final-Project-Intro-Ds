{
 "cells": [
  {
   "cell_type": "markdown",
   "metadata": {},
   "source": [
    "# <p style=\"text-align: center;\"> Final Project - Introduction to Data Science</p>\n",
    "# <p style=\"text-align: center;\"> <b> Data Modeling </b></p>\n",
    "---"
   ]
  },
  {
   "cell_type": "markdown",
   "metadata": {},
   "source": [
    "## Member Information\n",
    "| Name              | ID       |\n",
    "|-------------------|----------|\n",
    "|Tran Đinh Quang    | 21127406 |\n",
    "|Nguyen Hong Hanh   | 21127503 |\n",
    "|Đo Quoc Tri  | 21127556 |\n",
    "| Nguyen Khanh Nhan | 21127657         |\n"
   ]
  },
  {
   "cell_type": "markdown",
   "metadata": {},
   "source": [
    "## Table of contents\n",
    "\n",
    "\n",
    "\n",
    "---"
   ]
  }
 ],
 "metadata": {
  "language_info": {
   "name": "python"
  }
 },
 "nbformat": 4,
 "nbformat_minor": 2
}
