{
 "cells": [
  {
   "cell_type": "markdown",
   "metadata": {},
   "source": [
    "# <p style=\"text-align: center;\"> Final Project - Introduction to Data Science</p>\n",
    "# <p style=\"text-align: center;\"> <b> Data Modeling </b></p>\n",
    "---"
   ]
  },
  {
   "cell_type": "markdown",
   "metadata": {},
   "source": [
    "## Member Information\n",
    "| Name              | ID       |\n",
    "|-------------------|----------|\n",
    "|Tran Dinh Quang    | 21127406 |\n",
    "|Nguyen Hong Hanh   | 21127503 |\n",
    "|Do Quoc Tri  | 21127556 |\n",
    "| Nguyen Khanh Nhan | 21127657         |\n"
   ]
  },
  {
   "cell_type": "markdown",
   "metadata": {},
   "source": [
    "## Table of contents\n",
    "- [0. Import libraries](#0-import-libraries)\n",
    "- [1. Problem statement](#1-problem-statement)\n",
    "    - [1.1 State the problem](#11-state-the-problem)\n",
    "    - [1.2 Purpose of solving the problem](#12-purpose-of-solving-the-problem)\n",
    "- [2. Data preparation](#2-data-preparation)\n",
    "    - [2.1 Pre-processing](#21-pre-processing)\n",
    "    - [2.2 Splitting data](#22-splitting-data)\n",
    "- [3. Data modeling](#3-data-modeling)\n",
    "    - [3.1 Model selection](#31-model-selection)\n",
    "    - [3.2 Fine-tuning model](#32-fine-tuning-model)\n",
    "    - [3.3 Model training](#33-model-training)\n",
    "    - [3.4 Basic ensemble method](#34-basic-ensemble-method)\n",
    "    - [3.5 Model evaluation](#35-model-evaluation)\n",
    "\n",
    "\n",
    "---"
   ]
  },
  {
   "cell_type": "markdown",
   "metadata": {},
   "source": [
    "## 0. Import libraries"
   ]
  },
  {
   "cell_type": "code",
   "execution_count": null,
   "metadata": {},
   "outputs": [],
   "source": [
    "import numpy as np\n",
    "import pandas as pd\n",
    "import matplotlib.pyplot as plt"
   ]
  },
  {
   "cell_type": "markdown",
   "metadata": {},
   "source": [
    "## 1. Problem Statement"
   ]
  },
  {
   "cell_type": "markdown",
   "metadata": {},
   "source": [
    "### 1.1 State the problem\n",
    "- Với bộ dữ liệu về tình hình thời tiết ở Thành phố Hồ Chí Minh từ tháng 9/2009 tới tháng 5/2023, chúng tôi sẽ dùng mô hình học máy để"
   ]
  },
  {
   "cell_type": "markdown",
   "metadata": {},
   "source": [
    "### 1.2 Purpose of solving the problem"
   ]
  },
  {
   "cell_type": "markdown",
   "metadata": {},
   "source": [
    "## 2. Data preparation"
   ]
  },
  {
   "cell_type": "markdown",
   "metadata": {},
   "source": [
    "### 2.1 Pre-processing"
   ]
  },
  {
   "cell_type": "markdown",
   "metadata": {},
   "source": [
    "### 2.2 Splitting data"
   ]
  },
  {
   "cell_type": "markdown",
   "metadata": {},
   "source": [
    "## 3. Data Modeling"
   ]
  },
  {
   "cell_type": "markdown",
   "metadata": {},
   "source": [
    "### 3.1 Model selection"
   ]
  },
  {
   "cell_type": "markdown",
   "metadata": {},
   "source": [
    "### 3.2 Fine-tuning model"
   ]
  },
  {
   "cell_type": "markdown",
   "metadata": {},
   "source": [
    "- We can make our `KNN Imputer` more accurate by using `GridSearchCV` to find the best `n_neighbors` value.\n",
    "- To evaluate the performance of the `KNN Imputer` when changing the hyperparameter `n_neighbors`, we will use the `neg_mean_squared_error` metric because effectively filling in missing values using the `KNN Imputer` is essentially a disguised `regression` problem. In `regression` problems, the two most popular metrics are `mean_squared_error` and `neg_mean_squared_error`. These two metrics are equivalent to each other and differ only in their sign.\n",
    "- Because the thing is that GridSearchCV, by convention, always tries to maximize its score so loss functions like MSE have to be negated to be used with GridSearchCV. So, we will use `neg_mean_squared_error` instead of `mean_squared_error` to evaluate the performance of the `KNN Imputer`."
   ]
  },
  {
   "cell_type": "markdown",
   "metadata": {},
   "source": [
    "### 3.3 Model training"
   ]
  },
  {
   "cell_type": "markdown",
   "metadata": {},
   "source": [
    "### 3.4 Basic ensemble method"
   ]
  },
  {
   "cell_type": "markdown",
   "metadata": {},
   "source": [
    "### 3.5 Model evaluation"
   ]
  }
 ],
 "metadata": {
  "language_info": {
   "name": "python"
  }
 },
 "nbformat": 4,
 "nbformat_minor": 2
}
