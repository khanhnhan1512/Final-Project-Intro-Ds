{
 "cells": [
  {
   "cell_type": "markdown",
   "metadata": {},
   "source": [
    "# <p style=\"text-align: center;\"> Final Project - Introduction to Data Science</p>\n",
    "# <p style=\"text-align: center;\"> <b> Data Collecting </b></p>\n",
    "---"
   ]
  },
  {
   "cell_type": "markdown",
   "metadata": {},
   "source": [
    "## Member Information\n",
    "| Name              | ID       |\n",
    "|-------------------|----------|\n",
    "|Tran Đinh Quang    | 21127406 |\n",
    "|Nguyen Hong Hanh   | 21127503 |\n",
    "|Do Quoc Tri  | 21127556 |\n",
    "| Nguyen Khanh Nhan | 21127657         |\n"
   ]
  },
  {
   "cell_type": "markdown",
   "metadata": {},
   "source": [
    "## Table of contents\n",
    "\n",
    "\n",
    "\n",
    "---"
   ]
  },
  {
   "cell_type": "markdown",
   "metadata": {},
   "source": [
    "**Import libaries**"
   ]
  },
  {
   "cell_type": "code",
   "execution_count": 66,
   "metadata": {},
   "outputs": [],
   "source": [
    "import requests\n",
    "import sys\n",
    "import json\n",
    "import pandas as pd\n",
    "from datetime import datetime, timedelta, date"
   ]
  },
  {
   "cell_type": "markdown",
   "metadata": {},
   "source": [
    "Dữ liệu được lấy về từ trang web https://weather.visualcrossing.com. Dữ liệu trong bài là dữ liệu về thời tiết của thành phố Hồ Chí Minh từ  01/01/2007 đến 31/12/2022. Do mã id chi cho phép lấy về 1000 dòng dữ liệu mỗi ngày vì vậy mỗi lần chạy lẽ lấy về 1000 dòng dữ liệu và ghi lại ngày đã chạy vào file để tiếp tục vào các lần chạy sau."
   ]
  },
  {
   "cell_type": "code",
   "execution_count": 67,
   "metadata": {},
   "outputs": [],
   "source": [
    "key = 'PEVKTTBLZUTL89Z6WHQ5V2HRK'\n",
    "test_day = 1\n",
    "\n",
    "with open('../data/lastdate.txt', 'r') as file:\n",
    "  start = file.read()\n",
    "\n",
    "end = datetime.strptime(start, '%Y-%m-%d') + timedelta(days=test_day)\n",
    "end = end.strftime('%Y-%m-%d')"
   ]
  },
  {
   "cell_type": "code",
   "execution_count": 68,
   "metadata": {},
   "outputs": [],
   "source": [
    "response = requests.request(\"GET\", f\"https://weather.visualcrossing.com/VisualCrossingWebServices/rest/services/timeline/Ho%20Chi%20Minh/{start}/{end}?unitGroup=us&include=days&key={key}&contentType=json\")\n",
    "if response.status_code!=200:\n",
    "  print('Unexpected Status code: ', response.status_code)\n",
    "  sys.exit()  \n",
    "\n",
    "\n",
    "# Parse the results as JSON\n",
    "jsonData = response.json()"
   ]
  },
  {
   "cell_type": "code",
   "execution_count": 69,
   "metadata": {},
   "outputs": [
    {
     "data": {
      "text/plain": [
       "{'latitude': 10.7764,\n",
       " 'longitude': 106.701,\n",
       " 'resolvedAddress': 'Quận 1, Hồ Chí Minh, Việt Nam',\n",
       " 'address': 'Ho Chi Minh',\n",
       " 'timezone': 'Asia/Ho_Chi_Minh',\n",
       " 'tzoffset': 7.0}"
      ]
     },
     "execution_count": 69,
     "metadata": {},
     "output_type": "execute_result"
    }
   ],
   "source": [
    "location_info ={}\n",
    "features = ['latitude', 'longitude', 'resolvedAddress', 'address', 'timezone', 'tzoffset']\n",
    "for f in features:\n",
    "  location_info[f] = jsonData[f]\n",
    "location_info"
   ]
  },
  {
   "cell_type": "code",
   "execution_count": 70,
   "metadata": {},
   "outputs": [
    {
     "data": {
      "text/html": [
       "<div>\n",
       "<style scoped>\n",
       "    .dataframe tbody tr th:only-of-type {\n",
       "        vertical-align: middle;\n",
       "    }\n",
       "\n",
       "    .dataframe tbody tr th {\n",
       "        vertical-align: top;\n",
       "    }\n",
       "\n",
       "    .dataframe thead th {\n",
       "        text-align: right;\n",
       "    }\n",
       "</style>\n",
       "<table border=\"1\" class=\"dataframe\">\n",
       "  <thead>\n",
       "    <tr style=\"text-align: right;\">\n",
       "      <th></th>\n",
       "      <th>datetime</th>\n",
       "      <th>datetimeEpoch</th>\n",
       "      <th>tempmax</th>\n",
       "      <th>tempmin</th>\n",
       "      <th>temp</th>\n",
       "      <th>feelslikemax</th>\n",
       "      <th>feelslikemin</th>\n",
       "      <th>feelslike</th>\n",
       "      <th>dew</th>\n",
       "      <th>humidity</th>\n",
       "      <th>...</th>\n",
       "      <th>sunrise</th>\n",
       "      <th>sunriseEpoch</th>\n",
       "      <th>sunset</th>\n",
       "      <th>sunsetEpoch</th>\n",
       "      <th>moonphase</th>\n",
       "      <th>conditions</th>\n",
       "      <th>description</th>\n",
       "      <th>icon</th>\n",
       "      <th>stations</th>\n",
       "      <th>source</th>\n",
       "    </tr>\n",
       "  </thead>\n",
       "  <tbody>\n",
       "    <tr>\n",
       "      <th>0</th>\n",
       "      <td>2009-09-27</td>\n",
       "      <td>1253984400</td>\n",
       "      <td>87.9</td>\n",
       "      <td>73.5</td>\n",
       "      <td>78.9</td>\n",
       "      <td>100.9</td>\n",
       "      <td>73.5</td>\n",
       "      <td>82.5</td>\n",
       "      <td>76.5</td>\n",
       "      <td>93.0</td>\n",
       "      <td>...</td>\n",
       "      <td>05:42:03</td>\n",
       "      <td>1254004923</td>\n",
       "      <td>17:46:17</td>\n",
       "      <td>1254048377</td>\n",
       "      <td>0.27</td>\n",
       "      <td>Partially cloudy</td>\n",
       "      <td>Partly cloudy throughout the day.</td>\n",
       "      <td>partly-cloudy-day</td>\n",
       "      <td>[48900099999]</td>\n",
       "      <td>obs</td>\n",
       "    </tr>\n",
       "    <tr>\n",
       "      <th>1</th>\n",
       "      <td>2009-09-28</td>\n",
       "      <td>1254070800</td>\n",
       "      <td>84.8</td>\n",
       "      <td>75.3</td>\n",
       "      <td>79.6</td>\n",
       "      <td>94.0</td>\n",
       "      <td>75.3</td>\n",
       "      <td>82.7</td>\n",
       "      <td>75.7</td>\n",
       "      <td>88.4</td>\n",
       "      <td>...</td>\n",
       "      <td>05:42:00</td>\n",
       "      <td>1254091320</td>\n",
       "      <td>17:45:39</td>\n",
       "      <td>1254134739</td>\n",
       "      <td>0.30</td>\n",
       "      <td>Overcast</td>\n",
       "      <td>Cloudy skies throughout the day.</td>\n",
       "      <td>cloudy</td>\n",
       "      <td>[48900099999]</td>\n",
       "      <td>obs</td>\n",
       "    </tr>\n",
       "  </tbody>\n",
       "</table>\n",
       "<p>2 rows × 35 columns</p>\n",
       "</div>"
      ],
      "text/plain": [
       "     datetime  datetimeEpoch  tempmax  tempmin  temp  feelslikemax  \\\n",
       "0  2009-09-27     1253984400     87.9     73.5  78.9         100.9   \n",
       "1  2009-09-28     1254070800     84.8     75.3  79.6          94.0   \n",
       "\n",
       "   feelslikemin  feelslike   dew  humidity  ...   sunrise  sunriseEpoch  \\\n",
       "0          73.5       82.5  76.5      93.0  ...  05:42:03    1254004923   \n",
       "1          75.3       82.7  75.7      88.4  ...  05:42:00    1254091320   \n",
       "\n",
       "     sunset sunsetEpoch moonphase        conditions  \\\n",
       "0  17:46:17  1254048377      0.27  Partially cloudy   \n",
       "1  17:45:39  1254134739      0.30          Overcast   \n",
       "\n",
       "                         description               icon       stations  source  \n",
       "0  Partly cloudy throughout the day.  partly-cloudy-day  [48900099999]     obs  \n",
       "1   Cloudy skies throughout the day.             cloudy  [48900099999]     obs  \n",
       "\n",
       "[2 rows x 35 columns]"
      ]
     },
     "execution_count": 70,
     "metadata": {},
     "output_type": "execute_result"
    }
   ],
   "source": [
    "df = pd.DataFrame.from_dict(jsonData['days'])\n",
    "df"
   ]
  },
  {
   "cell_type": "code",
   "execution_count": 71,
   "metadata": {},
   "outputs": [],
   "source": [
    "df.to_csv('../data/test01.csv', index=False)"
   ]
  },
  {
   "cell_type": "markdown",
   "metadata": {},
   "source": [
    "**Caution** Do not run next cell before finished"
   ]
  },
  {
   "cell_type": "code",
   "execution_count": 72,
   "metadata": {},
   "outputs": [
    {
     "ename": "NameError",
     "evalue": "name 'Error' is not defined",
     "output_type": "error",
     "traceback": [
      "\u001b[1;31m---------------------------------------------------------------------------\u001b[0m",
      "\u001b[1;31mNameError\u001b[0m                                 Traceback (most recent call last)",
      "\u001b[1;32mc:\\Users\\User\\Desktop\\Truong\\Hoc\\Nam III\\HK I\\Lap_trinh_cho_KHDL\\FinalProject\\Final-Project-Intro-Ds\\src\\01-Data_Collecting.ipynb Cell 13\u001b[0m line \u001b[0;36m1\n\u001b[1;32m----> <a href='vscode-notebook-cell:/c%3A/Users/User/Desktop/Truong/Hoc/Nam%20III/HK%20I/Lap_trinh_cho_KHDL/FinalProject/Final-Project-Intro-Ds/src/01-Data_Collecting.ipynb#X30sZmlsZQ%3D%3D?line=0'>1</a>\u001b[0m \u001b[39mraise\u001b[39;00m Error\n\u001b[0;32m      <a href='vscode-notebook-cell:/c%3A/Users/User/Desktop/Truong/Hoc/Nam%20III/HK%20I/Lap_trinh_cho_KHDL/FinalProject/Final-Project-Intro-Ds/src/01-Data_Collecting.ipynb#X30sZmlsZQ%3D%3D?line=1'>2</a>\u001b[0m \u001b[39mwith\u001b[39;00m \u001b[39mopen\u001b[39m(\u001b[39m'\u001b[39m\u001b[39m../data/lastdate.txt\u001b[39m\u001b[39m'\u001b[39m, \u001b[39m'\u001b[39m\u001b[39mw\u001b[39m\u001b[39m'\u001b[39m) \u001b[39mas\u001b[39;00m file:\n\u001b[0;32m      <a href='vscode-notebook-cell:/c%3A/Users/User/Desktop/Truong/Hoc/Nam%20III/HK%20I/Lap_trinh_cho_KHDL/FinalProject/Final-Project-Intro-Ds/src/01-Data_Collecting.ipynb#X30sZmlsZQ%3D%3D?line=2'>3</a>\u001b[0m   file\u001b[39m.\u001b[39mwrite(end)\n",
      "\u001b[1;31mNameError\u001b[0m: name 'Error' is not defined"
     ]
    }
   ],
   "source": [
    "raise Error\n",
    "with open('../data/lastdate.txt', 'w') as file:\n",
    "  file.write(end)"
   ]
  },
  {
   "cell_type": "code",
   "execution_count": null,
   "metadata": {},
   "outputs": [],
   "source": []
  }
 ],
 "metadata": {
  "kernelspec": {
   "display_name": "base",
   "language": "python",
   "name": "python3"
  },
  "language_info": {
   "codemirror_mode": {
    "name": "ipython",
    "version": 3
   },
   "file_extension": ".py",
   "mimetype": "text/x-python",
   "name": "python",
   "nbconvert_exporter": "python",
   "pygments_lexer": "ipython3",
   "version": "3.11.5"
  }
 },
 "nbformat": 4,
 "nbformat_minor": 2
}
