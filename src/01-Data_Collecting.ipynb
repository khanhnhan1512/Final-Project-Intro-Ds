{
 "cells": [
  {
   "cell_type": "markdown",
   "metadata": {},
   "source": [
    "# <p style=\"text-align: center;\"> Final Project - Introduction to Data Science</p>\n",
    "# <p style=\"text-align: center;\"> <b> Data Collecting </b></p>\n",
    "---"
   ]
  },
  {
   "cell_type": "markdown",
   "metadata": {},
   "source": [
    "## Member Information\n",
    "| Name              | ID       |\n",
    "|-------------------|----------|\n",
    "|Tran Đinh Quang    | 21127406 |\n",
    "|Nguyen Hong Hanh   | 21127503 |\n",
    "|Do Quoc Tri  | 21127556 |\n",
    "| Nguyen Khanh Nhan | 21127657         |\n"
   ]
  },
  {
   "cell_type": "markdown",
   "metadata": {},
   "source": [
    "## Table of contents\n",
    "\n",
    "\n",
    "\n",
    "---"
   ]
  },
  {
   "cell_type": "markdown",
   "metadata": {},
   "source": [
    "## Import libaries"
   ]
  },
  {
   "cell_type": "code",
   "execution_count": 1,
   "metadata": {},
   "outputs": [],
   "source": [
    "import requests\n",
    "import sys\n",
    "import json\n",
    "import pandas as pd\n",
    "from datetime import datetime, timedelta, date"
   ]
  },
  {
   "cell_type": "markdown",
   "metadata": {},
   "source": [
    "Dữ liệu được lấy về từ trang web [Visualcrossing](https://www.visualcrossing.com/). Dữ liệu trong bài là dữ liệu về thời tiết của thành phố Hồ Chí Minh từ  01/01/2007 đến 31/12/2022. Do mã id chi cho phép lấy về 1000 dòng dữ liệu mỗi ngày vì vậy mỗi lần chạy lẽ lấy về 1000 dòng dữ liệu và ghi lại ngày đã chạy vào file để tiếp tục vào các lần chạy sau."
   ]
  },
  {
   "cell_type": "code",
   "execution_count": 2,
   "metadata": {},
   "outputs": [],
   "source": [
    "key = 'PEVKTTBLZUTL89Z6WHQ5V2HRK'\n",
    "num_of_days = 999\n",
    "\n",
    "with open('../data/lastdate.txt', 'r') as file:\n",
    "  start = file.read()\n",
    "\n",
    "end = datetime.strptime(start, '%Y-%m-%d') + timedelta(days=num_of_days)\n",
    "end = end.strftime('%Y-%m-%d')"
   ]
  },
  {
   "cell_type": "code",
   "execution_count": null,
   "metadata": {},
   "outputs": [],
   "source": [
    "response = requests.request(\"GET\", f\"https://weather.visualcrossing.com/VisualCrossingWebServices/rest/services/timeline/Ho%20Chi%20Minh/{start}/{end}?unitGroup=us&include=days&key={key}&contentType=json\")\n",
    "if response.status_code!=200:\n",
    "  print('Unexpected Status code: ', response.status_code)\n",
    "  sys.exit()  \n",
    "\n",
    "\n",
    "# Parse the results as JSON\n",
    "jsonData = response.json()"
   ]
  },
  {
   "cell_type": "code",
   "execution_count": 4,
   "metadata": {},
   "outputs": [
    {
     "data": {
      "text/plain": [
       "{'latitude': 10.7764,\n",
       " 'longitude': 106.701,\n",
       " 'resolvedAddress': 'Quận 1, Hồ Chí Minh, Việt Nam',\n",
       " 'address': 'Ho Chi Minh',\n",
       " 'timezone': 'Asia/Ho_Chi_Minh',\n",
       " 'tzoffset': 7.0}"
      ]
     },
     "execution_count": 4,
     "metadata": {},
     "output_type": "execute_result"
    }
   ],
   "source": [
    "location_info ={}\n",
    "features = ['latitude', 'longitude', 'resolvedAddress', 'address', 'timezone', 'tzoffset']\n",
    "for f in features:\n",
    "  location_info[f] = jsonData[f]\n",
    "location_info"
   ]
  },
  {
   "cell_type": "code",
   "execution_count": 9,
   "metadata": {},
   "outputs": [
    {
     "data": {
      "text/html": [
       "<div>\n",
       "<style scoped>\n",
       "    .dataframe tbody tr th:only-of-type {\n",
       "        vertical-align: middle;\n",
       "    }\n",
       "\n",
       "    .dataframe tbody tr th {\n",
       "        vertical-align: top;\n",
       "    }\n",
       "\n",
       "    .dataframe thead th {\n",
       "        text-align: right;\n",
       "    }\n",
       "</style>\n",
       "<table border=\"1\" class=\"dataframe\">\n",
       "  <thead>\n",
       "    <tr style=\"text-align: right;\">\n",
       "      <th></th>\n",
       "      <th>datetime</th>\n",
       "      <th>datetimeEpoch</th>\n",
       "      <th>tempmax</th>\n",
       "      <th>tempmin</th>\n",
       "      <th>temp</th>\n",
       "      <th>feelslikemax</th>\n",
       "      <th>feelslikemin</th>\n",
       "      <th>feelslike</th>\n",
       "      <th>dew</th>\n",
       "      <th>humidity</th>\n",
       "      <th>...</th>\n",
       "      <th>sunrise</th>\n",
       "      <th>sunriseEpoch</th>\n",
       "      <th>sunset</th>\n",
       "      <th>sunsetEpoch</th>\n",
       "      <th>moonphase</th>\n",
       "      <th>conditions</th>\n",
       "      <th>description</th>\n",
       "      <th>icon</th>\n",
       "      <th>stations</th>\n",
       "      <th>source</th>\n",
       "    </tr>\n",
       "  </thead>\n",
       "  <tbody>\n",
       "    <tr>\n",
       "      <th>0</th>\n",
       "      <td>2009-09-27</td>\n",
       "      <td>1253984400</td>\n",
       "      <td>87.9</td>\n",
       "      <td>73.5</td>\n",
       "      <td>78.9</td>\n",
       "      <td>100.9</td>\n",
       "      <td>73.5</td>\n",
       "      <td>82.5</td>\n",
       "      <td>76.5</td>\n",
       "      <td>93.0</td>\n",
       "      <td>...</td>\n",
       "      <td>05:42:03</td>\n",
       "      <td>1254004923</td>\n",
       "      <td>17:46:17</td>\n",
       "      <td>1254048377</td>\n",
       "      <td>0.27</td>\n",
       "      <td>Partially cloudy</td>\n",
       "      <td>Partly cloudy throughout the day.</td>\n",
       "      <td>partly-cloudy-day</td>\n",
       "      <td>[48900099999]</td>\n",
       "      <td>obs</td>\n",
       "    </tr>\n",
       "    <tr>\n",
       "      <th>1</th>\n",
       "      <td>2009-09-28</td>\n",
       "      <td>1254070800</td>\n",
       "      <td>84.8</td>\n",
       "      <td>75.3</td>\n",
       "      <td>79.6</td>\n",
       "      <td>94.0</td>\n",
       "      <td>75.3</td>\n",
       "      <td>82.7</td>\n",
       "      <td>75.7</td>\n",
       "      <td>88.4</td>\n",
       "      <td>...</td>\n",
       "      <td>05:42:00</td>\n",
       "      <td>1254091320</td>\n",
       "      <td>17:45:39</td>\n",
       "      <td>1254134739</td>\n",
       "      <td>0.30</td>\n",
       "      <td>Overcast</td>\n",
       "      <td>Cloudy skies throughout the day.</td>\n",
       "      <td>cloudy</td>\n",
       "      <td>[48900099999]</td>\n",
       "      <td>obs</td>\n",
       "    </tr>\n",
       "    <tr>\n",
       "      <th>2</th>\n",
       "      <td>2009-09-29</td>\n",
       "      <td>1254157200</td>\n",
       "      <td>84.5</td>\n",
       "      <td>77.1</td>\n",
       "      <td>80.5</td>\n",
       "      <td>93.5</td>\n",
       "      <td>77.1</td>\n",
       "      <td>84.6</td>\n",
       "      <td>76.2</td>\n",
       "      <td>87.0</td>\n",
       "      <td>...</td>\n",
       "      <td>05:41:58</td>\n",
       "      <td>1254177718</td>\n",
       "      <td>17:45:01</td>\n",
       "      <td>1254221101</td>\n",
       "      <td>0.34</td>\n",
       "      <td>Partially cloudy</td>\n",
       "      <td>Partly cloudy throughout the day.</td>\n",
       "      <td>partly-cloudy-day</td>\n",
       "      <td>[48900099999]</td>\n",
       "      <td>obs</td>\n",
       "    </tr>\n",
       "    <tr>\n",
       "      <th>3</th>\n",
       "      <td>2009-09-30</td>\n",
       "      <td>1254243600</td>\n",
       "      <td>87.9</td>\n",
       "      <td>74.6</td>\n",
       "      <td>79.3</td>\n",
       "      <td>100.2</td>\n",
       "      <td>74.6</td>\n",
       "      <td>82.4</td>\n",
       "      <td>76.3</td>\n",
       "      <td>91.7</td>\n",
       "      <td>...</td>\n",
       "      <td>05:41:56</td>\n",
       "      <td>1254264116</td>\n",
       "      <td>17:44:24</td>\n",
       "      <td>1254307464</td>\n",
       "      <td>0.37</td>\n",
       "      <td>Partially cloudy</td>\n",
       "      <td>Partly cloudy throughout the day.</td>\n",
       "      <td>partly-cloudy-day</td>\n",
       "      <td>[48900099999]</td>\n",
       "      <td>obs</td>\n",
       "    </tr>\n",
       "    <tr>\n",
       "      <th>4</th>\n",
       "      <td>2009-10-01</td>\n",
       "      <td>1254330000</td>\n",
       "      <td>89.7</td>\n",
       "      <td>75.3</td>\n",
       "      <td>80.9</td>\n",
       "      <td>100.5</td>\n",
       "      <td>75.3</td>\n",
       "      <td>85.4</td>\n",
       "      <td>76.3</td>\n",
       "      <td>87.2</td>\n",
       "      <td>...</td>\n",
       "      <td>05:41:54</td>\n",
       "      <td>1254350514</td>\n",
       "      <td>17:43:46</td>\n",
       "      <td>1254393826</td>\n",
       "      <td>0.40</td>\n",
       "      <td>Partially cloudy</td>\n",
       "      <td>Partly cloudy throughout the day.</td>\n",
       "      <td>partly-cloudy-day</td>\n",
       "      <td>[48900099999]</td>\n",
       "      <td>obs</td>\n",
       "    </tr>\n",
       "  </tbody>\n",
       "</table>\n",
       "<p>5 rows × 35 columns</p>\n",
       "</div>"
      ],
      "text/plain": [
       "     datetime  datetimeEpoch  tempmax  tempmin  temp  feelslikemax  \\\n",
       "0  2009-09-27     1253984400     87.9     73.5  78.9         100.9   \n",
       "1  2009-09-28     1254070800     84.8     75.3  79.6          94.0   \n",
       "2  2009-09-29     1254157200     84.5     77.1  80.5          93.5   \n",
       "3  2009-09-30     1254243600     87.9     74.6  79.3         100.2   \n",
       "4  2009-10-01     1254330000     89.7     75.3  80.9         100.5   \n",
       "\n",
       "   feelslikemin  feelslike   dew  humidity  ...   sunrise  sunriseEpoch  \\\n",
       "0          73.5       82.5  76.5      93.0  ...  05:42:03    1254004923   \n",
       "1          75.3       82.7  75.7      88.4  ...  05:42:00    1254091320   \n",
       "2          77.1       84.6  76.2      87.0  ...  05:41:58    1254177718   \n",
       "3          74.6       82.4  76.3      91.7  ...  05:41:56    1254264116   \n",
       "4          75.3       85.4  76.3      87.2  ...  05:41:54    1254350514   \n",
       "\n",
       "     sunset sunsetEpoch moonphase        conditions  \\\n",
       "0  17:46:17  1254048377      0.27  Partially cloudy   \n",
       "1  17:45:39  1254134739      0.30          Overcast   \n",
       "2  17:45:01  1254221101      0.34  Partially cloudy   \n",
       "3  17:44:24  1254307464      0.37  Partially cloudy   \n",
       "4  17:43:46  1254393826      0.40  Partially cloudy   \n",
       "\n",
       "                         description               icon       stations  source  \n",
       "0  Partly cloudy throughout the day.  partly-cloudy-day  [48900099999]     obs  \n",
       "1   Cloudy skies throughout the day.             cloudy  [48900099999]     obs  \n",
       "2  Partly cloudy throughout the day.  partly-cloudy-day  [48900099999]     obs  \n",
       "3  Partly cloudy throughout the day.  partly-cloudy-day  [48900099999]     obs  \n",
       "4  Partly cloudy throughout the day.  partly-cloudy-day  [48900099999]     obs  \n",
       "\n",
       "[5 rows x 35 columns]"
      ]
     },
     "execution_count": 9,
     "metadata": {},
     "output_type": "execute_result"
    }
   ],
   "source": [
    "df = pd.DataFrame.from_dict(jsonData['days'])\n",
    "df.head()"
   ]
  },
  {
   "cell_type": "code",
   "execution_count": 14,
   "metadata": {},
   "outputs": [],
   "source": [
    "df.to_csv(f'../data/raw_{start}_{end}.csv', index=False)"
   ]
  },
  {
   "cell_type": "markdown",
   "metadata": {},
   "source": [
    "**Caution** Do not run next cell before finished"
   ]
  },
  {
   "cell_type": "code",
   "execution_count": 13,
   "metadata": {},
   "outputs": [],
   "source": [
    "end = datetime.strptime(end, '%Y-%m-%d') + timedelta(days=1)\n",
    "end = end.strftime('%Y-%m-%d')\n",
    "with open('../data/lastdate.txt', 'w') as file:\n",
    "  file.write(end)"
   ]
  }
 ],
 "metadata": {
  "kernelspec": {
   "display_name": "base",
   "language": "python",
   "name": "python3"
  },
  "language_info": {
   "codemirror_mode": {
    "name": "ipython",
    "version": 3
   },
   "file_extension": ".py",
   "mimetype": "text/x-python",
   "name": "python",
   "nbconvert_exporter": "python",
   "pygments_lexer": "ipython3",
   "version": "3.11.5"
  }
 },
 "nbformat": 4,
 "nbformat_minor": 2
}
