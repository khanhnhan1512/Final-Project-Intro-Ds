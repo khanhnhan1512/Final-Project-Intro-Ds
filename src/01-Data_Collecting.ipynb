{
 "cells": [
  {
   "cell_type": "markdown",
   "metadata": {},
   "source": [
    "# <p style=\"text-align: center;\"> Final Project - Introduction to Data Science</p>\n",
    "# <p style=\"text-align: center;\"> <b> Data Collecting </b></p>\n",
    "---"
   ]
  },
  {
   "cell_type": "markdown",
   "metadata": {},
   "source": [
    "## Member Information\n",
    "| Name              | ID       |\n",
    "|-------------------|----------|\n",
    "|Tran Đinh Quang    | 21127406 |\n",
    "|Nguyen Hong Hanh   | 21127503 |\n",
    "|Do Quoc Tri  | 21127556 |\n",
    "| Nguyen Khanh Nhan | 21127657         |\n"
   ]
  },
  {
   "cell_type": "markdown",
   "metadata": {},
   "source": [
    "## Table of contents\n",
    "\n",
    "\n",
    "\n",
    "---"
   ]
  },
  {
   "cell_type": "markdown",
   "metadata": {},
   "source": [
    "## Import libaries"
   ]
  },
  {
   "cell_type": "code",
   "execution_count": 2,
   "metadata": {},
   "outputs": [],
   "source": [
    "import requests\n",
    "import sys\n",
    "import json\n",
    "import pandas as pd\n",
    "from datetime import datetime, timedelta, date"
   ]
  },
  {
   "cell_type": "markdown",
   "metadata": {},
   "source": [
    "## Data introduction"
   ]
  },
  {
   "cell_type": "markdown",
   "metadata": {},
   "source": [
    "The data is fetched from the [Visualcrossings](https://ww.visualcrossing.com/) website. The data in this study pertains to the weather in Ho Chi Minh City from 01/01/2007 to 31/12/2022. Due to the ID code limitations allowing the retrieval of only 1000 queries of data per day, each run can obtain 1000 queries of data and record the date of the run into a file for subsequent runs to continue."
   ]
  },
  {
   "cell_type": "markdown",
   "metadata": {},
   "source": [
    "## Get the data"
   ]
  },
  {
   "cell_type": "markdown",
   "metadata": {},
   "source": [
    "You can obtain a free account at Visualcrossings which comes with a key."
   ]
  },
  {
   "cell_type": "code",
   "execution_count": 3,
   "metadata": {},
   "outputs": [],
   "source": [
    "key = 'PEVKTTBLZUTL89Z6WHQ5V2HRK'\n",
    "num_of_days = 999\n",
    "\n",
    "with open('../data/lastdate.txt', 'r') as file:\n",
    "  start = file.read()\n",
    "\n",
    "end = datetime.strptime(start, '%Y-%m-%d') + timedelta(days=num_of_days)\n",
    "end = end.strftime('%Y-%m-%d')"
   ]
  },
  {
   "cell_type": "markdown",
   "metadata": {},
   "source": [
    "**Causion** The next cell will get the data from the website. As we can only get 1000 queries per day, **ONLY RUN IT ONCE**"
   ]
  },
  {
   "cell_type": "code",
   "execution_count": 4,
   "metadata": {},
   "outputs": [],
   "source": [
    "response = requests.request(\"GET\", f\"https://weather.visualcrossing.com/VisualCrossingWebServices/rest/services/timeline/Ho%20Chi%20Minh/{start}/{end}?unitGroup=us&include=days&key={key}&contentType=json\")\n",
    "if response.status_code!=200:\n",
    "  print('Unexpected Status code: ', response.status_code)\n",
    "  sys.exit()  \n",
    "\n",
    "jsonData = response.json()"
   ]
  },
  {
   "cell_type": "markdown",
   "metadata": {},
   "source": [
    "## Check the location infomation"
   ]
  },
  {
   "cell_type": "code",
   "execution_count": 5,
   "metadata": {},
   "outputs": [
    {
     "data": {
      "text/plain": [
       "{'latitude': 10.7764,\n",
       " 'longitude': 106.701,\n",
       " 'resolvedAddress': 'Quận 1, Hồ Chí Minh, Việt Nam',\n",
       " 'address': 'Ho Chi Minh',\n",
       " 'timezone': 'Asia/Ho_Chi_Minh',\n",
       " 'tzoffset': 7.0}"
      ]
     },
     "execution_count": 5,
     "metadata": {},
     "output_type": "execute_result"
    }
   ],
   "source": [
    "location_info ={}\n",
    "features = ['latitude', 'longitude', 'resolvedAddress', 'address', 'timezone', 'tzoffset']\n",
    "for f in features:\n",
    "  location_info[f] = jsonData[f]\n",
    "location_info"
   ]
  },
  {
   "cell_type": "markdown",
   "metadata": {},
   "source": [
    "## Get some data samples"
   ]
  },
  {
   "cell_type": "code",
   "execution_count": 6,
   "metadata": {},
   "outputs": [
    {
     "data": {
      "text/html": [
       "<div>\n",
       "<style scoped>\n",
       "    .dataframe tbody tr th:only-of-type {\n",
       "        vertical-align: middle;\n",
       "    }\n",
       "\n",
       "    .dataframe tbody tr th {\n",
       "        vertical-align: top;\n",
       "    }\n",
       "\n",
       "    .dataframe thead th {\n",
       "        text-align: right;\n",
       "    }\n",
       "</style>\n",
       "<table border=\"1\" class=\"dataframe\">\n",
       "  <thead>\n",
       "    <tr style=\"text-align: right;\">\n",
       "      <th></th>\n",
       "      <th>datetime</th>\n",
       "      <th>datetimeEpoch</th>\n",
       "      <th>tempmax</th>\n",
       "      <th>tempmin</th>\n",
       "      <th>temp</th>\n",
       "      <th>feelslikemax</th>\n",
       "      <th>feelslikemin</th>\n",
       "      <th>feelslike</th>\n",
       "      <th>dew</th>\n",
       "      <th>humidity</th>\n",
       "      <th>...</th>\n",
       "      <th>sunrise</th>\n",
       "      <th>sunriseEpoch</th>\n",
       "      <th>sunset</th>\n",
       "      <th>sunsetEpoch</th>\n",
       "      <th>moonphase</th>\n",
       "      <th>conditions</th>\n",
       "      <th>description</th>\n",
       "      <th>icon</th>\n",
       "      <th>stations</th>\n",
       "      <th>source</th>\n",
       "    </tr>\n",
       "  </thead>\n",
       "  <tbody>\n",
       "    <tr>\n",
       "      <th>208</th>\n",
       "      <td>2013-01-17</td>\n",
       "      <td>1358355600</td>\n",
       "      <td>88.9</td>\n",
       "      <td>66.2</td>\n",
       "      <td>78.3</td>\n",
       "      <td>88.8</td>\n",
       "      <td>66.2</td>\n",
       "      <td>78.5</td>\n",
       "      <td>62.5</td>\n",
       "      <td>60.5</td>\n",
       "      <td>...</td>\n",
       "      <td>06:16:10</td>\n",
       "      <td>1358378170</td>\n",
       "      <td>17:50:26</td>\n",
       "      <td>1358419826</td>\n",
       "      <td>0.18</td>\n",
       "      <td>Rain, Partially cloudy</td>\n",
       "      <td>Partly cloudy throughout the day with late aft...</td>\n",
       "      <td>rain</td>\n",
       "      <td>[48900099999, VVTS]</td>\n",
       "      <td>obs</td>\n",
       "    </tr>\n",
       "  </tbody>\n",
       "</table>\n",
       "<p>1 rows × 35 columns</p>\n",
       "</div>"
      ],
      "text/plain": [
       "       datetime  datetimeEpoch  tempmax  tempmin  temp  feelslikemax  \\\n",
       "208  2013-01-17     1358355600     88.9     66.2  78.3          88.8   \n",
       "\n",
       "     feelslikemin  feelslike   dew  humidity  ...   sunrise  sunriseEpoch  \\\n",
       "208          66.2       78.5  62.5      60.5  ...  06:16:10    1358378170   \n",
       "\n",
       "       sunset sunsetEpoch moonphase              conditions  \\\n",
       "208  17:50:26  1358419826      0.18  Rain, Partially cloudy   \n",
       "\n",
       "                                           description  icon  \\\n",
       "208  Partly cloudy throughout the day with late aft...  rain   \n",
       "\n",
       "                stations  source  \n",
       "208  [48900099999, VVTS]     obs  \n",
       "\n",
       "[1 rows x 35 columns]"
      ]
     },
     "execution_count": 6,
     "metadata": {},
     "output_type": "execute_result"
    }
   ],
   "source": [
    "df = pd.DataFrame.from_dict(jsonData['days'])\n",
    "df.sample()"
   ]
  },
  {
   "cell_type": "markdown",
   "metadata": {},
   "source": [
    "## Save the data to file"
   ]
  },
  {
   "cell_type": "code",
   "execution_count": 7,
   "metadata": {},
   "outputs": [],
   "source": [
    "df.to_csv(f'../data/raw_{start}_{end}.csv', index=False)"
   ]
  },
  {
   "cell_type": "markdown",
   "metadata": {},
   "source": [
    "**Caution** The following cell will save the date for next time run. **Do not run next cell before finished**"
   ]
  },
  {
   "cell_type": "code",
   "execution_count": 8,
   "metadata": {},
   "outputs": [],
   "source": [
    "end = datetime.strptime(end, '%Y-%m-%d') + timedelta(days=1)\n",
    "end = end.strftime('%Y-%m-%d')\n",
    "with open('../data/lastdate.txt', 'w') as file:\n",
    "  file.write(end)"
   ]
  }
 ],
 "metadata": {
  "kernelspec": {
   "display_name": "base",
   "language": "python",
   "name": "python3"
  },
  "language_info": {
   "codemirror_mode": {
    "name": "ipython",
    "version": 3
   },
   "file_extension": ".py",
   "mimetype": "text/x-python",
   "name": "python",
   "nbconvert_exporter": "python",
   "pygments_lexer": "ipython3",
   "version": "3.11.5"
  }
 },
 "nbformat": 4,
 "nbformat_minor": 2
}
